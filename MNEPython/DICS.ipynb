{
 "cells": [
  {
   "cell_type": "markdown",
   "metadata": {},
   "source": [
    "# Using beamforming to localize oscillatory power modulations\n",
    "\n",
    "The aim of this section is to localize the modulations of oscillatory power. The will be done using the Dynamical Imaging of Coherent Sources (DICS) approach (Gross et al, 2001). This is a beamforming methodology based on spatial filtering operating in the frequency domain. For each grid point in the brain, a spatial filter is derived based on the forward model and the cross-spectral density (CSD) matrix. A multitaper approach is applied for the spectral estimates.\n",
    "The approach allows for estimating the power modulations at each grid points which then is mapped onto the indiviual structural MRIs. Prewhitening of the data allows for combining the information from the gradiometers and the magnetomers \n",
    "\n",
    "\n",
    "## Preparation\n",
    "\n",
    "Import the relevant Python modules:"
   ]
  },
  {
   "cell_type": "code",
   "execution_count": 1,
   "metadata": {},
   "outputs": [],
   "source": [
    "import os\n",
    "import os.path as op\n",
    "import numpy as np\n",
    "\n",
    "import mne\n",
    "from mne_bids import BIDSPath\n",
    "from mne.cov import compute_covariance\n",
    "from mne.beamformer import make_dics, apply_dics_csd\n",
    "from mne.time_frequency import csd_multitaper"
   ]
  },
  {
   "cell_type": "markdown",
   "metadata": {},
   "source": [
    "Set the paths and name for the data. Note that these will depend on your local setup."
   ]
  },
  {
   "cell_type": "code",
   "execution_count": 2,
   "metadata": {},
   "outputs": [
    {
     "name": "stdout",
     "output_type": "stream",
     "text": [
      "sub-01_ses-01_task-SpAtt_run-12_epo.fif Z:\\FLUX_BIDS\\derivatives\\Preprocessing\\sub-01\\ses-01\\meg\\sub-01_ses-01_task-SpAtt_run-12_epo.fif\n",
      "Z:\\FLUX_BIDS\\derivatives\\Preprocessing\\sub-01\\ses-01\\meg\\sub-01_ses-01_task-SpAtt_run-12_src.fif\n",
      "Z:\\Projects\\FLUX\\MEG_data\\Course\\openneuro\\sub-01\\ses-01\\meg\\sub-01_ses-01_task-SpAtt_run-01_meg.fif\n",
      "Z:\\Projects\\FLUX\\MEG_data\\Course\\openneuro\\sub-01\\ses-01\\anat\n",
      "Z:\\FLUX_BIDS\\derivatives\\Preprocessing\\FreeSurfer\n"
     ]
    },
    {
     "name": "stderr",
     "output_type": "stream",
     "text": [
      "C:\\Users\\ferranto\\AppData\\Local\\Temp\\ipykernel_1720\\3865939398.py:13: FutureWarning: extension should start with a period \".\", but got: \"fif\". Prepending \".\" to form: \".fif\". This will raise an exception starting with MNE-BIDS 0.12.\n",
      "  bids_path = BIDSPath(subject=subject, session=session,\n",
      "C:\\Users\\ferranto\\AppData\\Local\\Temp\\ipykernel_1720\\3865939398.py:24: FutureWarning: extension should start with a period \".\", but got: \"fif\". Prepending \".\" to form: \".fif\". This will raise an exception starting with MNE-BIDS 0.12.\n",
      "  raw_path = bids_path.copy().update(root=r'Z:\\Projects\\FLUX\\MEG_data\\Course\\openneuro',\n",
      "C:\\Users\\ferranto\\AppData\\Local\\Temp\\ipykernel_1720\\3865939398.py:28: FutureWarning: extension should start with a period \".\", but got: \"nii.gz\". Prepending \".\" to form: \".nii.gz\". This will raise an exception starting with MNE-BIDS 0.12.\n",
      "  mri_root = BIDSPath(subject=subject, session=session,\n"
     ]
    }
   ],
   "source": [
    "subject = '01'\n",
    "session = '01'\n",
    "task = 'SpAtt'  # name of the task\n",
    "run = '12'  # we have two runs for this subject, let's look at run = 1\n",
    "meg_suffix = 'meg'\n",
    "epo_suffix = 'epo'\n",
    "mri_suffix = 'T1w'\n",
    "bem_suffix = 'bem-sol'\n",
    "src_suffix = 'src'\n",
    "fwd_suffix = 'fwd'\n",
    "\n",
    "deriv_root = r'Z:\\FLUX_BIDS\\derivatives\\Preprocessing'\n",
    "bids_path = BIDSPath(subject=subject, session=session,\n",
    "            task=task, run=run, suffix=epo_suffix, datatype='meg',\n",
    "            root=deriv_root, extension='fif', check=False)\n",
    "print(bids_path.basename,bids_path.fpath)\n",
    "\n",
    "fwd_fname = bids_path.basename.replace(epo_suffix, fwd_suffix)\n",
    "fwd_file = op.join(bids_path.directory, fwd_fname)\n",
    "src_file = fwd_file.replace(fwd_suffix, src_suffix)\n",
    "bem_file = fwd_file.replace(fwd_suffix, bem_suffix)\n",
    "print(src_file)\n",
    "\n",
    "raw_path = bids_path.copy().update(root=r'Z:\\FLUX_BIDS\\derivatives', \n",
    "                                suffix=meg_suffix, extension='fif', run='01', check=False)\n",
    "print(raw_path.fpath)\n",
    "\n",
    "mri_root = BIDSPath(subject=subject, session=session,\n",
    "                    root=r'Z:\\FLUX_BIDS\\derivatives',  \n",
    "                    datatype='anat', suffix=mri_suffix, extension='nii.gz')\n",
    "print(mri_root.directory)\n",
    "\n",
    "fs_subject = 'sub-01'\n",
    "fs_root = op.join(deriv_root, 'FreeSurfer')\n",
    "print(fs_root) "
   ]
  },
  {
   "cell_type": "markdown",
   "metadata": {},
   "source": [
    "## The forward model\n",
    "\n",
    "In this example we will use the forward model calculated in the previous section 'Head model and forward computations'. The forward model is constructed for the 306 MEG sensors (both magnetometer and gradiometers) with respect to the volumetric forward solution (not the brain surface solution)."
   ]
  },
  {
   "cell_type": "code",
   "execution_count": 3,
   "metadata": {
    "scrolled": false
   },
   "outputs": [
    {
     "name": "stdout",
     "output_type": "stream",
     "text": [
      "Reading forward solution from Z:\\FLUX_BIDS\\derivatives\\Preprocessing\\sub-01\\ses-01\\meg\\sub-01_ses-01_task-SpAtt_run-12_fwd.fif...\n",
      "    Reading a source space...\n",
      "    [done]\n",
      "    1 source spaces read\n",
      "    Desired named matrix (kind = 3523) not available\n",
      "    Read MEG forward solution (12065 sources, 306 channels, free orientations)\n",
      "    Source spaces transformed to the forward solution coordinate frame\n"
     ]
    }
   ],
   "source": [
    "fwd = mne.read_forward_solution(fwd_file)"
   ]
  },
  {
   "cell_type": "markdown",
   "metadata": {},
   "source": [
    "## Reading the trials\n",
    "\n",
    "Now read the epochs for all trial types:"
   ]
  },
  {
   "cell_type": "code",
   "execution_count": 4,
   "metadata": {},
   "outputs": [
    {
     "name": "stdout",
     "output_type": "stream",
     "text": [
      "Reading Z:\\FLUX_BIDS\\derivatives\\Preprocessing\\sub-01\\ses-01\\meg\\sub-01_ses-01_task-SpAtt_run-12_epo.fif ...\n",
      "    Found the data of interest:\n",
      "        t =   -2500.00 ...    2000.00 ms\n",
      "        0 CTF compensation matrices available\n"
     ]
    },
    {
     "ename": "TypeError",
     "evalue": "only size-1 arrays can be converted to Python scalars",
     "output_type": "error",
     "traceback": [
      "\u001b[1;31m---------------------------------------------------------------------------\u001b[0m",
      "\u001b[1;31mTypeError\u001b[0m                                 Traceback (most recent call last)",
      "Cell \u001b[1;32mIn[4], line 1\u001b[0m\n\u001b[1;32m----> 1\u001b[0m epochs \u001b[39m=\u001b[39m mne\u001b[39m.\u001b[39;49mread_epochs(bids_path\u001b[39m.\u001b[39;49mfpath)\n",
      "File \u001b[1;32m<decorator-gen-282>:12\u001b[0m, in \u001b[0;36mread_epochs\u001b[1;34m(fname, proj, preload, verbose)\u001b[0m\n",
      "File \u001b[1;32mc:\\ProgramData\\Miniconda3\\envs\\mne_1.3\\lib\\site-packages\\mne\\epochs.py:3175\u001b[0m, in \u001b[0;36mread_epochs\u001b[1;34m(fname, proj, preload, verbose)\u001b[0m\n\u001b[0;32m   3157\u001b[0m \u001b[39m@verbose\u001b[39m\n\u001b[0;32m   3158\u001b[0m \u001b[39mdef\u001b[39;00m \u001b[39mread_epochs\u001b[39m(fname, proj\u001b[39m=\u001b[39m\u001b[39mTrue\u001b[39;00m, preload\u001b[39m=\u001b[39m\u001b[39mTrue\u001b[39;00m, verbose\u001b[39m=\u001b[39m\u001b[39mNone\u001b[39;00m):\n\u001b[0;32m   3159\u001b[0m \u001b[39m    \u001b[39m\u001b[39m\"\"\"Read epochs from a fif file.\u001b[39;00m\n\u001b[0;32m   3160\u001b[0m \n\u001b[0;32m   3161\u001b[0m \u001b[39m    Parameters\u001b[39;00m\n\u001b[1;32m   (...)\u001b[0m\n\u001b[0;32m   3173\u001b[0m \u001b[39m        The epochs.\u001b[39;00m\n\u001b[0;32m   3174\u001b[0m \u001b[39m    \"\"\"\u001b[39;00m\n\u001b[1;32m-> 3175\u001b[0m     \u001b[39mreturn\u001b[39;00m EpochsFIF(fname, proj, preload, verbose)\n",
      "File \u001b[1;32m<decorator-gen-283>:12\u001b[0m, in \u001b[0;36m__init__\u001b[1;34m(self, fname, proj, preload, verbose)\u001b[0m\n",
      "File \u001b[1;32mc:\\ProgramData\\Miniconda3\\envs\\mne_1.3\\lib\\site-packages\\mne\\epochs.py:3239\u001b[0m, in \u001b[0;36mEpochsFIF.__init__\u001b[1;34m(self, fname, proj, preload, verbose)\u001b[0m\n\u001b[0;32m   3234\u001b[0m fid, tree, _ \u001b[39m=\u001b[39m fiff_open(fname, preload\u001b[39m=\u001b[39mpreload)\n\u001b[0;32m   3235\u001b[0m next_fname \u001b[39m=\u001b[39m _get_next_fname(fid, fname, tree)\n\u001b[0;32m   3236\u001b[0m (info, data, data_tag, events, event_id, metadata, tmin, tmax,\n\u001b[0;32m   3237\u001b[0m  baseline, selection, drop_log, epoch_shape, cals,\n\u001b[0;32m   3238\u001b[0m  reject_params, fmt, annotations, raw_sfreq) \u001b[39m=\u001b[39m \\\n\u001b[1;32m-> 3239\u001b[0m     _read_one_epoch_file(fid, tree, preload)\n\u001b[0;32m   3241\u001b[0m \u001b[39mif\u001b[39;00m (events[:, \u001b[39m0\u001b[39m] \u001b[39m<\u001b[39m \u001b[39m0\u001b[39m)\u001b[39m.\u001b[39many():\n\u001b[0;32m   3242\u001b[0m     events \u001b[39m=\u001b[39m events\u001b[39m.\u001b[39mcopy()\n",
      "File \u001b[1;32mc:\\ProgramData\\Miniconda3\\envs\\mne_1.3\\lib\\site-packages\\mne\\epochs.py:3137\u001b[0m, in \u001b[0;36m_read_one_epoch_file\u001b[1;34m(f, tree, preload)\u001b[0m\n\u001b[0;32m   3135\u001b[0m \u001b[39m# Read the data\u001b[39;00m\n\u001b[0;32m   3136\u001b[0m \u001b[39mif\u001b[39;00m preload:\n\u001b[1;32m-> 3137\u001b[0m     data \u001b[39m=\u001b[39m read_tag(fid, data_tag\u001b[39m.\u001b[39;49mpos)\u001b[39m.\u001b[39mdata\u001b[39m.\u001b[39mastype(datatype)\n\u001b[0;32m   3138\u001b[0m     data \u001b[39m*\u001b[39m\u001b[39m=\u001b[39m cals\n\u001b[0;32m   3140\u001b[0m \u001b[39m# Put it all together\u001b[39;00m\n",
      "File \u001b[1;32mc:\\ProgramData\\Miniconda3\\envs\\mne_1.3\\lib\\site-packages\\mne\\io\\tag.py:469\u001b[0m, in \u001b[0;36mread_tag\u001b[1;34m(fid, pos, shape, rlims)\u001b[0m\n\u001b[0;32m    467\u001b[0m matrix_coding \u001b[39m=\u001b[39m _is_matrix \u001b[39m&\u001b[39m tag\u001b[39m.\u001b[39mtype\n\u001b[0;32m    468\u001b[0m \u001b[39mif\u001b[39;00m matrix_coding \u001b[39m!=\u001b[39m \u001b[39m0\u001b[39m:\n\u001b[1;32m--> 469\u001b[0m     tag\u001b[39m.\u001b[39mdata \u001b[39m=\u001b[39m _read_matrix(fid, tag, shape, rlims, matrix_coding)\n\u001b[0;32m    470\u001b[0m \u001b[39melse\u001b[39;00m:\n\u001b[0;32m    471\u001b[0m     \u001b[39m#   All other data types\u001b[39;00m\n\u001b[0;32m    472\u001b[0m     \u001b[39mtry\u001b[39;00m:\n",
      "File \u001b[1;32mc:\\ProgramData\\Miniconda3\\envs\\mne_1.3\\lib\\site-packages\\mne\\io\\tag.py:184\u001b[0m, in \u001b[0;36m_read_matrix\u001b[1;34m(fid, tag, shape, rlims, matrix_coding)\u001b[0m\n\u001b[0;32m    182\u001b[0m pos \u001b[39m=\u001b[39m fid\u001b[39m.\u001b[39mtell()\n\u001b[0;32m    183\u001b[0m fid\u001b[39m.\u001b[39mseek(tag\u001b[39m.\u001b[39msize \u001b[39m-\u001b[39m \u001b[39m4\u001b[39m, \u001b[39m1\u001b[39m)\n\u001b[1;32m--> 184\u001b[0m ndim \u001b[39m=\u001b[39m \u001b[39mint\u001b[39;49m(np\u001b[39m.\u001b[39;49mfrombuffer(fid\u001b[39m.\u001b[39;49mread(\u001b[39m4\u001b[39;49m), dtype\u001b[39m=\u001b[39;49m\u001b[39m'\u001b[39;49m\u001b[39m>i4\u001b[39;49m\u001b[39m'\u001b[39;49m))\n\u001b[0;32m    185\u001b[0m fid\u001b[39m.\u001b[39mseek(\u001b[39m-\u001b[39m(ndim \u001b[39m+\u001b[39m \u001b[39m1\u001b[39m) \u001b[39m*\u001b[39m \u001b[39m4\u001b[39m, \u001b[39m1\u001b[39m)\n\u001b[0;32m    186\u001b[0m dims \u001b[39m=\u001b[39m np\u001b[39m.\u001b[39mfrombuffer(fid\u001b[39m.\u001b[39mread(\u001b[39m4\u001b[39m \u001b[39m*\u001b[39m ndim), dtype\u001b[39m=\u001b[39m\u001b[39m'\u001b[39m\u001b[39m>i4\u001b[39m\u001b[39m'\u001b[39m)[::\u001b[39m-\u001b[39m\u001b[39m1\u001b[39m]\n",
      "\u001b[1;31mTypeError\u001b[0m: only size-1 arrays can be converted to Python scalars"
     ]
    }
   ],
   "source": [
    "epochs = mne.read_epochs(bids_path.fpath)"
   ]
  },
  {
   "cell_type": "markdown",
   "metadata": {},
   "source": [
    "## Source modeling of modulations of alpha band activity "
   ]
  },
  {
   "cell_type": "markdown",
   "metadata": {},
   "source": [
    "### Calculating the cross-spectral density matrices for the alpha band \n",
    "\n",
    "The spatial filters in the DICS beamforming approach are calculated using the forward model and the cross-spectral density (CSD) matrices. We here focus on the -0.8 to -0.3 s interval prior to the onset of the gratings and the 0.3 to 0.8 s interval when the gratings are presented. During the presentation interval, the alpha band activity is suppressed (see the section Time-Frequency Representations of Power). \n",
    "\n",
    "We start by calculating the CSDs for the 8 to 12 Hz alpha band for all conditions and the pre- and post-interval. Since are using the multitaper approach we are defining the bandwidth to 2 Hz. This results in one taper (as N < 2 ΔF ΔT = 2 0.5).  "
   ]
  },
  {
   "cell_type": "code",
   "execution_count": null,
   "metadata": {
    "scrolled": false
   },
   "outputs": [],
   "source": [
    "csd_aleft_base =  csd_multitaper(epochs['cue_left'],  fmin=8, fmax=12, tmin=-0.8, tmax=-0.3, bandwidth = 2, verbose = False, n_jobs=4)\n",
    "csd_aleft_act =   csd_multitaper(epochs['cue_left'],  fmin=8, fmax=12, tmin= 0.3, tmax= 0.8, bandwidth = 2, verbose = False, n_jobs=4)\n",
    "csd_aright_base = csd_multitaper(epochs['cue_right'], fmin=8, fmax=12, tmin=-0.8, tmax=-0.3, bandwidth = 2, verbose = False, n_jobs=4)\n",
    "csd_aright_act =  csd_multitaper(epochs['cue_right'], fmin=8, fmax=12, tmin= 0.3, tmax= 0.8, bandwidth = 2, verbose = False, n_jobs=4)"
   ]
  },
  {
   "cell_type": "markdown",
   "metadata": {},
   "source": [
    "The spatial filters must be based on the covariance matrices combined ('common spatial filter'). Therefore the CSDs are averaged: "
   ]
  },
  {
   "cell_type": "code",
   "execution_count": null,
   "metadata": {},
   "outputs": [],
   "source": [
    "csd_acommon = csd_aleft_base\n",
    "csd_anoise =  csd_aleft_base\n",
    "csd_acommon._data = (csd_aleft_base._data + csd_aright_base._data + \n",
    "                         csd_aleft_act._data + csd_aright_act._data)/4\n",
    "\n",
    "csd_anoise._data = (csd_aleft_base._data + csd_aright_base._data)/2"
   ]
  },
  {
   "cell_type": "markdown",
   "metadata": {},
   "source": [
    "For calculating the spatial filters we also need to derive the rank of the CSD. It will be similar to the the rank of the coveriance matrix: "
   ]
  },
  {
   "cell_type": "code",
   "execution_count": null,
   "metadata": {},
   "outputs": [],
   "source": [
    "rank = mne.compute_rank(epochs, tol=1e-6, tol_kind='relative')\n",
    "print(rank)"
   ]
  },
  {
   "cell_type": "markdown",
   "metadata": {},
   "source": [
    "Note that the rank is 69 eventhough there were 306 used in the calculations. The rank deficiency is caused by the SSS and the ICA algorithms and therefore requires a regulatization before inverting in the beamforming calculation. \n",
    "\n",
    "### Derive the spatial filters for the alpha band\n",
    "\n",
    "Now calculate the filters using the forward model (*fwd*) and the combined CSD matrix (*csd_common*). The filters are regularized corresponding to loading the diagonal of the covariance matrix with 5% of the sensor power. For each source the orientation is optimized to maximize the power of the output. Defining *noise_csd* serve to perform spatial prewhitening of the data (Sekihara et al. 2008, Engemann and Gramfort 2015, Westner et al. 2021). We here do this using data from the pre-stimulus interval; however, empty room data could be used as well.  As a result the magnetometer and gradiometer signals are uncorrelated to each other but have the same variance. Since the whitening is done separately for the magnetometers and gradiometers, the scale difference between the scale disappears allowing for the data from the two sensor types to be combined. The compensentation for depth bias is set (*depth = 0*) as condition or intervals will be compared. The relative comparisons alleviate depth bias. The *mean* in *csd_common.mean()* serves to average the CSDs over frequencies. Given that the covariance (or CSD) are severely rank-deficient due to the application of SSS and ICA, MNE-Python automatically computes a truncated pseudo-inverse using the rank calculated above. For the data ($X$) with rank $k$ the truncated pseudo-inverse ($X^\\dagger$) is calculated using singular value decomposition $ X = U \\Sigma V^T$ ; $X^\\dagger = V \\Sigma^{-1}_k U^T$\n",
    "where we consider the first $k$ diagonal values of $\\Sigma$ as well as the first $k$ columns of $U$ and $V$.  This allows for the DISC algorithm is effectively applied in a virtual channel space of size *rank* (= 69 in this case) and no further regularization is required (reg = 0)."
   ]
  },
  {
   "cell_type": "code",
   "execution_count": null,
   "metadata": {},
   "outputs": [],
   "source": [
    "afilters = make_dics(epochs.info, fwd, csd_acommon.mean() , noise_csd=csd_anoise.mean(), \n",
    "                    reg=0, pick_ori='max-power', reduce_rank=True, real_filter=True, rank=rank, depth = 0)"
   ]
  },
  {
   "cell_type": "markdown",
   "metadata": {},
   "source": [
    "### Apply the spatial filters \n",
    "\n",
    "Then apply the filter to the data for the baseline interval as well as the stimulation interval for the left as well as right attention conditions:"
   ]
  },
  {
   "cell_type": "code",
   "execution_count": null,
   "metadata": {},
   "outputs": [],
   "source": [
    "stc_aleft_base, freqs = apply_dics_csd(csd_aleft_base.mean(), afilters)\n",
    "stc_aleft_act, freqs  = apply_dics_csd(csd_aleft_act.mean(), afilters)\n",
    "stc_aright_base, freqs = apply_dics_csd(csd_aright_base.mean(), afilters)\n",
    "stc_aright_act, freqs  = apply_dics_csd(csd_aright_act.mean(), afilters)"
   ]
  },
  {
   "cell_type": "markdown",
   "metadata": {},
   "source": [
    "Calculate the relative change in power; i.e. the change in alpha power comparing the interval before and after the moving grating onset. Note that we are always comparing intervals or conditions in order to remove the depth bias confound: "
   ]
  },
  {
   "cell_type": "code",
   "execution_count": null,
   "metadata": {},
   "outputs": [],
   "source": [
    "stc_arel = ((stc_aleft_act + stc_aright_act) - (stc_aleft_base + stc_aright_base)) / (stc_aleft_base + stc_aright_base)"
   ]
  },
  {
   "cell_type": "markdown",
   "metadata": {},
   "source": [
    "Calculate the changed in relative power for comparing the right versus left attention condutions during the moving gratings interval:"
   ]
  },
  {
   "cell_type": "code",
   "execution_count": null,
   "metadata": {},
   "outputs": [],
   "source": [
    "stc_aRvsL = (stc_aright_act - stc_aleft_act) / (stc_aright_act + stc_aleft_act)"
   ]
  },
  {
   "cell_type": "markdown",
   "metadata": {},
   "source": [
    "### Plotting the alpha band modulation\n"
   ]
  },
  {
   "cell_type": "markdown",
   "metadata": {},
   "source": [
    "Now plot the source results: "
   ]
  },
  {
   "cell_type": "code",
   "execution_count": null,
   "metadata": {},
   "outputs": [],
   "source": [
    "src = fwd['src']\n",
    "%matplotlib inline\n",
    "stc_arel.plot(src=src, subject=fs_subject, subjects_dir=fs_root, \n",
    "             mode='stat_map');"
   ]
  },
  {
   "cell_type": "markdown",
   "metadata": {},
   "source": [
    "The above plot show the relative depression in the alpha following the onset of moving gratings. The blue island reflects the occipital depression in alpha power.\n",
    "\n",
    "To browse the slice use the following command and the mouse to navigate:"
   ]
  },
  {
   "cell_type": "code",
   "execution_count": null,
   "metadata": {},
   "outputs": [],
   "source": [
    "#%matplotlib qt\n",
    "#stc_arel.plot(src=src, subject=subject, subjects_dir=mri_dir, \n",
    "#             mode='stat_map');"
   ]
  },
  {
   "cell_type": "code",
   "execution_count": null,
   "metadata": {},
   "outputs": [],
   "source": [
    "stc_aRvsL.plot(src=src, subject=fs_subject, subjects_dir=fs_root, \n",
    "              mode='stat_map', clim=dict(kind='value', pos_lims=[0.1,0.1,0.18]));"
   ]
  },
  {
   "cell_type": "markdown",
   "metadata": {},
   "source": [
    "The sources in the posterior areas reflect the modulation of the alpha band activity when the partipant in attention to the right versus left moving gratings. The right orange island reflects the well-known ipsi-lateral reflective increase in alpha band power (the left island the contra-lateral alpha decrease).  "
   ]
  },
  {
   "cell_type": "markdown",
   "metadata": {},
   "source": [
    "**Question 1** Plot the DISC output (of e.g. *stc_aright_act*) on the MRI prior to doing a comparision. Interpret the outcome.\n",
    "\n",
    "**Question 2** Change the rank of the data when calculating the filter to 100: *rank={'meg':100}*. How does it affect the outcome? \n"
   ]
  },
  {
   "cell_type": "markdown",
   "metadata": {},
   "source": [
    "# Source modeling of modulations of gamma band activity"
   ]
  },
  {
   "cell_type": "markdown",
   "metadata": {},
   "source": [
    "We will next localize the sources associated with the modulation in the 60 - 90 Hz gamma band. For this, we will apply the multitaper approach to ensure suffient spectral smoothing.\n",
    "\n",
    "As a first step, calculate the CSD for the pre- and post-interval as well as all conditions. The bandwidth here is 2ΔF = 8 Hz and the time window ΔT = 0.475 s. This results in 3 tapers (as N <  2ΔF ΔT). "
   ]
  },
  {
   "cell_type": "code",
   "execution_count": null,
   "metadata": {},
   "outputs": [],
   "source": [
    "csd_gleft_base =  csd_multitaper(epochs['cue_left'],  fmin=60, fmax=90, tmin=-0.6,   tmax=-0.125, bandwidth = 8, adaptive=True, low_bias = True, verbose = True, n_jobs=4)\n",
    "csd_gleft_act =   csd_multitaper(epochs['cue_left'],  fmin=60, fmax=90, tmin= 0.125, tmax= 0.6,   bandwidth = 8, adaptive=True, low_bias = True, verbose = True, n_jobs=4)\n",
    "csd_gright_base = csd_multitaper(epochs['cue_right'], fmin=60, fmax=90, tmin=-0.6,   tmax=-0.125, bandwidth = 8, adaptive=True, low_bias = True, verbose = True, n_jobs=4)\n",
    "csd_gright_act =  csd_multitaper(epochs['cue_right'], fmin=60, fmax=90, tmin= 0.125, tmax= 0.6,   bandwidth = 8, adaptive=True, low_bias = True, verbose = True, n_jobs=4)"
   ]
  },
  {
   "cell_type": "code",
   "execution_count": null,
   "metadata": {},
   "outputs": [],
   "source": [
    "csd_gcommon = csd_gleft_base\n",
    "csd_gnoise =  csd_aleft_base\n",
    "\n",
    "csd_gcommon._data = (csd_gleft_base._data + csd_gright_base._data + csd_gleft_act._data + csd_gright_act._data)/4\n",
    "csd_gnoise._data = (csd_gleft_base._data + csd_gright_base._data)/2"
   ]
  },
  {
   "cell_type": "markdown",
   "metadata": {},
   "source": [
    "### Derive the spatial filters for the gamma band\n",
    "\n",
    "The filters will be calculated on the basis of the common CSD. The rank estimate based on the covariance matrix will be used. The deduced rank is due to the SSS as well as the ICA. We also here chose a 5% regularization parameter.\n"
   ]
  },
  {
   "cell_type": "code",
   "execution_count": null,
   "metadata": {},
   "outputs": [],
   "source": [
    "gfilters = make_dics(epochs.info, fwd, csd_gcommon.mean() , noise_csd=csd_gnoise.mean(), reg=0.05, pick_ori='max-power',\n",
    "                        reduce_rank=True, real_filter=True, rank=rank, depth = 0)"
   ]
  },
  {
   "cell_type": "markdown",
   "metadata": {},
   "source": [
    "### Apply the filters and plot the gamma modulation\n",
    "\n",
    "The filters are then applied"
   ]
  },
  {
   "cell_type": "code",
   "execution_count": null,
   "metadata": {},
   "outputs": [],
   "source": [
    "stc_gleft_base, freqs = apply_dics_csd(csd_gleft_base.mean(), gfilters)\n",
    "stc_gleft_act, freqs  = apply_dics_csd(csd_gleft_act.mean(), gfilters)\n",
    "stc_gright_base, freqs = apply_dics_csd(csd_gright_base.mean(), gfilters)\n",
    "stc_gright_act, freqs  = apply_dics_csd(csd_gright_act.mean(), gfilters)"
   ]
  },
  {
   "cell_type": "markdown",
   "metadata": {},
   "source": [
    "Now calculate the relative modulation in gamma power with respect to the baseline:"
   ]
  },
  {
   "cell_type": "code",
   "execution_count": null,
   "metadata": {},
   "outputs": [],
   "source": [
    "stc_grel = ((stc_gleft_act + stc_gright_act) - (stc_gleft_base + stc_gright_base)) / (stc_gleft_base + stc_gright_base)"
   ]
  },
  {
   "cell_type": "markdown",
   "metadata": {},
   "source": [
    "and subsequently the hemisperic lateralization with respect to attention:"
   ]
  },
  {
   "cell_type": "code",
   "execution_count": null,
   "metadata": {},
   "outputs": [],
   "source": [
    "stc_gRvsL = (stc_gright_act - stc_gleft_act) / (stc_gright_act + stc_gleft_act)"
   ]
  },
  {
   "cell_type": "markdown",
   "metadata": {},
   "source": [
    "and plot the relative modulation. Note the increase in gamma power in visual cortex"
   ]
  },
  {
   "cell_type": "code",
   "execution_count": null,
   "metadata": {},
   "outputs": [],
   "source": [
    "src = fwd['src']\n",
    "stc_grel.plot(src=src, subject=fs_subject, subjects_dir=fs_root, mode='stat_map');"
   ]
  },
  {
   "cell_type": "markdown",
   "metadata": {},
   "source": [
    "The increase of the gamma activity is correclty localized in early visual cortex along the calcarine sulcus.  \n",
    "\n",
    "To illustrate the modulation in gamma band activity with attention write: "
   ]
  },
  {
   "cell_type": "code",
   "execution_count": null,
   "metadata": {},
   "outputs": [],
   "source": [
    "stc_gRvsL.plot(src=src, subject=fs_subject, subjects_dir=fs_root, \n",
    "              mode='stat_map', clim=dict(kind='value', pos_lims=[0.03,0.03,0.053]));\n",
    "#stc_gRvsL.plot(src=src, subject=subject, subjects_dir=mri_dir, \n",
    "#              mode='stat_map');"
   ]
  },
  {
   "cell_type": "markdown",
   "metadata": {},
   "source": [
    "The above plots should be interpreted with caution. The right hemisphere decrease is expected, but it is not complemented by an increase in the left hemisphetre. This result is most likely explained by the SNR being too low. "
   ]
  },
  {
   "cell_type": "markdown",
   "metadata": {},
   "source": [
    "## Preregistration and publications\n",
    "\n",
    "\n",
    "Example for text to be used for publications and preregistration:\n",
    "\n",
    "\"The Dynamics Imaging of Coherent Sources (DICSs) approach  (Gross et al., 2001) was applied to localize the modulations of oscillatory brain activity. To localize the modulation in the alpha band, the cross-spectral density (CSD) was calculated for the 8 to 12 Hz band using a multi-taper approach applying 2 Hz spectral smoothing. The CSD matrix was then calculated for the 300 - 800 ms stimulus interval in which the gratings were shown as well as the -800 – -300 ms pre-stimulus interval (using one DPSS taper). The combined CSD was used with the forward model to create a common spatial filter. This was done by first estimating the rank of the data (being reduced to ~70 due to the SSS and ICA approaches). The data were spatially pre-whitened using the covariance matrix from the baseline interval which allowed for combining the gradiometer and magnetometer data in the source modelling. The truncated pseudo-inverse was then calculated based on the estimated rank (Jas et al., 2018). For each source, the orientation was optimized to maximize the power of the output. The spatial filter was then applied to the CSDs to calculate the relative change in alpha power. As similar approach was used for the gamma band now considering the 60 - 90 Hz band and 8 Hz spectral smoothing (resulting in 3 DPSS tapers). The pre-stimulus time-interval was -0.6 to -0.125 s and the post-stimulus interval was 0.125 to 0.6 s. The source data were then mapped to the structural MRI. \""
   ]
  },
  {
   "cell_type": "markdown",
   "metadata": {},
   "source": [
    "## References\n",
    "\n",
    "* Gross J, Kujala J, Hamalainen M, Timmermann L, Schnitzler A, Salmelin R. (2001) Dynamic imaging of coherent sources: Studying neural interactions in the human brain. Proc Natl Acad Sci U S A. 98(2):694-9.\n",
    "\n",
    "* Engemann DA, Gramfort A. (2015) Automated model selection in covariance estimation and spatial whitening of MEG and EEG signals. Neuroimage 108:328-42.\n",
    "\n",
    "* Sekihara K, Hild KE, Dalal SS, Nagarajan SS. (2008) Performance of prewhitening beamforming in MEG dual experimental conditions. IEEE Trans Biomed Eng. 55(3):1112-21.\n",
    "\n",
    "* van Vliet M, Liljeström M, Aro S, Salmelin R, Kujala J. (2018) Analysis of Functional Connectivity and Oscillatory Power Using DICS: From Raw MEG Data to Group-Level Statistics in Python. Front Neurosci. 12:586.\n",
    "\n",
    "* Westner BU, Dalal SS, Gramfort A, Litvak V, Mosher JC, Oostenveld R, Schoffelen JM. (2021) A unified view on beamformers for M/EEG source reconstruction. Neuroimage 246:118789."
   ]
  }
 ],
 "metadata": {
  "kernelspec": {
   "display_name": "mne_1.3",
   "language": "python",
   "name": "python3"
  },
  "language_info": {
   "codemirror_mode": {
    "name": "ipython",
    "version": 3
   },
   "file_extension": ".py",
   "mimetype": "text/x-python",
   "name": "python",
   "nbconvert_exporter": "python",
   "pygments_lexer": "ipython3",
   "version": "3.10.8"
  },
  "vscode": {
   "interpreter": {
    "hash": "86251b58ba3f90f79db4f8150d93b1d63088f07a4baebc13a14d82f169e05a90"
   }
  }
 },
 "nbformat": 4,
 "nbformat_minor": 2
}
