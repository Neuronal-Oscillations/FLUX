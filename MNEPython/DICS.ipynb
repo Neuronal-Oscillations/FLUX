{
 "cells": [
  {
   "cell_type": "markdown",
   "metadata": {},
   "source": [
    "# Using beamforming to localize oscillatory power modulations\n",
    "\n",
    "The aim of this section is to localize the modulations of oscillatory power. The will be done using the Dynamical Imaging of Coherent Sources (DICS) approach (Gross et al, 2001). This is a beamforming methodology based on spatial filtering operating in the frequency domain. For each grid point in the brain, a spatial filter is derived based on the forward model and the cross-spectral density (CSD) matrix. A multitaper approach is applied for the spectral estimates.\n",
    "The approach allows for estimating the power modulations at each grid points which then is mapped onto the indiviual structural MRIs. Prewhitening of the data allows for combining the information from the gradiometers and the magnetomers \n",
    "\n",
    "\n",
    "## Preparation\n",
    "\n",
    "Import the relevant Python modules:"
   ]
  },
  {
   "cell_type": "code",
   "execution_count": 1,
   "metadata": {},
   "outputs": [],
   "source": [
    "import os\n",
    "import os.path as op\n",
    "import numpy as np\n",
    "\n",
    "import mne\n",
    "from mne_bids import BIDSPath\n",
    "from mne.cov import compute_covariance\n",
    "from mne.beamformer import make_dics, apply_dics_csd\n",
    "from mne.time_frequency import csd_multitaper"
   ]
  },
  {
   "cell_type": "markdown",
   "metadata": {},
   "source": [
    "Set the paths and name for the data. Note that these will depend on your local setup."
   ]
  },
  {
   "cell_type": "code",
   "execution_count": 2,
   "metadata": {},
   "outputs": [
    {
     "name": "stdout",
     "output_type": "stream",
     "text": [
      "sub-01_ses-01_task-SpAtt_run-12_epo.fif /Users/o.jensen@bham.ac.uk/Python/FLUX/Data/ds004346/derivatives/Analysis/sub-01/ses-01/meg/sub-01_ses-01_task-SpAtt_run-12_epo.fif\n",
      "/Users/o.jensen@bham.ac.uk/Python/FLUX/Data/ds004346/derivatives/Analysis/sub-01/ses-01/meg/sub-01_ses-01_task-SpAtt_run-12_src.fif\n",
      "/Users/o.jensen@bham.ac.uk/Python/FLUX/Data/ds004346/derivatives/FreeSurfer\n",
      "/Users/o.jensen@bham.ac.uk/Python/FLUX/Data/ds004346/derivatives/Analysis/sub-01/ses-01/meg/sub-01_ses-01_task-SpAtt_run-12_fwd.fif\n"
     ]
    }
   ],
   "source": [
    "subject = '01'\n",
    "session = '01'\n",
    "task = 'SpAtt'  # name of the task\n",
    "run = '12'  \n",
    "meg_suffix = 'meg'\n",
    "epo_suffix = 'epo'\n",
    "mri_suffix = 'T1w'\n",
    "bem_suffix = 'bem-sol'\n",
    "src_suffix = 'src'\n",
    "fwd_suffix = 'fwd'\n",
    "\n",
    "bids_root= r'C:\\Users\\parkh\\MEG Dropbox\\Hyojin Park\\FLUX'\n",
    "deriv_root = r'C:\\Users\\parkh\\MEG Dropbox\\Hyojin Park\\FLUX\\derivatives\\Analysis'\n",
    "\n",
    "bids_root = '/Users/o.jensen@bham.ac.uk/Python/FLUX/Data/ds004346'\n",
    "deriv_root = '/Users/o.jensen@bham.ac.uk/Python/FLUX/Data/ds004346/derivatives/Analysis'\n",
    "\n",
    "bids_path = BIDSPath(subject=subject, session=session,\n",
    "            task=task, run=run, suffix=epo_suffix, datatype='meg',\n",
    "            root=deriv_root, extension='.fif', check=False)\n",
    "\n",
    "\n",
    "fwd_fname = bids_path.basename.replace(epo_suffix, fwd_suffix)\n",
    "fwd_file = op.join(bids_path.directory, fwd_fname)\n",
    "src_file = fwd_file.replace(fwd_suffix, src_suffix)\n",
    "bem_file = fwd_file.replace(fwd_suffix, bem_suffix)\n",
    "\n",
    "\n",
    "fs_subject = 'sub-01'\n",
    "fs_root = op.join(bids_root, 'derivatives', 'FreeSurfer')\n",
    "\n",
    "print(bids_path.basename,bids_path.fpath)\n",
    "print(src_file)\n",
    "print(fs_root) \n",
    "print(fwd_file)\n",
    "\n"
   ]
  },
  {
   "cell_type": "markdown",
   "metadata": {},
   "source": [
    "## The forward model\n",
    "\n",
    "In this example we will use the forward model calculated in the previous section 'Head model and forward computations'. The forward model is constructed for the 306 MEG sensors (both magnetometer and gradiometers) with respect to the volumetric forward solution (not the brain surface solution)."
   ]
  },
  {
   "cell_type": "code",
   "execution_count": 3,
   "metadata": {},
   "outputs": [
    {
     "name": "stdout",
     "output_type": "stream",
     "text": [
      "Reading forward solution from /Users/o.jensen@bham.ac.uk/Python/FLUX/Data/ds004346/derivatives/Analysis/sub-01/ses-01/meg/sub-01_ses-01_task-SpAtt_run-12_fwd.fif...\n",
      "    Reading a source space...\n",
      "    [done]\n",
      "    1 source spaces read\n",
      "    Desired named matrix (kind = 3523) not available\n",
      "    Read MEG forward solution (12065 sources, 306 channels, free orientations)\n",
      "    Source spaces transformed to the forward solution coordinate frame\n"
     ]
    }
   ],
   "source": [
    "fwd = mne.read_forward_solution(fwd_file)"
   ]
  },
  {
   "cell_type": "markdown",
   "metadata": {},
   "source": [
    "## Reading the trials\n",
    "\n",
    "Now read the epochs for all trial types:"
   ]
  },
  {
   "cell_type": "code",
   "execution_count": 4,
   "metadata": {},
   "outputs": [
    {
     "name": "stdout",
     "output_type": "stream",
     "text": [
      "Reading /Users/o.jensen@bham.ac.uk/Python/FLUX/Data/ds004346/derivatives/Analysis/sub-01/ses-01/meg/sub-01_ses-01_task-SpAtt_run-12_epo.fif ...\n",
      "    Found the data of interest:\n",
      "        t =   -2500.00 ...    2000.00 ms\n",
      "        0 CTF compensation matrices available\n",
      "Not setting metadata\n",
      "122 matching events found\n",
      "No baseline correction applied\n"
     ]
    }
   ],
   "source": [
    "epochs = mne.read_epochs(bids_path.fpath, proj = False)"
   ]
  },
  {
   "cell_type": "markdown",
   "metadata": {},
   "source": [
    "## Source modeling of modulations of alpha band activity "
   ]
  },
  {
   "cell_type": "markdown",
   "metadata": {},
   "source": [
    "### Calculating the cross-spectral density matrices for the alpha band \n",
    "\n",
    "The spatial filters in the DICS beamforming approach are calculated using the forward model and the cross-spectral density (CSD) matrices. We here focus on the -0.8 to -0.3 s interval prior to the onset of the gratings and the 0.3 to 0.8 s interval when the gratings are presented. During the presentation interval, the alpha band activity is suppressed (see the section Time-Frequency Representations of Power). \n",
    "\n",
    "We start by calculating the CSDs for the 8 to 12 Hz alpha band for all conditions and the pre- and post-interval. Since we are using the multitaper approach we are defining the bandwidth to 3 Hz. This results in one taper (as N < 2 ΔF ΔT = 2 0.5).  "
   ]
  },
  {
   "cell_type": "code",
   "execution_count": 5,
   "metadata": {},
   "outputs": [],
   "source": [
    "csd_aleft_pre   = csd_multitaper(epochs['cue_left'],  fmin=8, fmax=12, tmin=-1.9, tmax=-1.4, bandwidth = 3, low_bias = True, verbose = False, n_jobs=-1)\n",
    "csd_aright_pre  = csd_multitaper(epochs['cue_right'], fmin=8, fmax=12, tmin=-1.9, tmax=-1.4, bandwidth = 3, low_bias = True,verbose = False, n_jobs=-1)\n",
    "\n",
    "csd_aleft_cue =  csd_multitaper(epochs['cue_left'],  fmin=8, fmax=12, tmin=-0.8, tmax=-0.3, bandwidth = 3,  low_bias = True, verbose = False, n_jobs=-1)\n",
    "csd_aleft_act =   csd_multitaper(epochs['cue_left'],  fmin=8, fmax=12, tmin= 0.3, tmax= 0.8, bandwidth = 3, low_bias = True, verbose = False, n_jobs=-1)\n",
    "csd_aright_cue = csd_multitaper(epochs['cue_right'], fmin=8, fmax=12, tmin=-0.8, tmax=-0.3, bandwidth = 3,  low_bias = True, verbose = False, n_jobs=-1)\n",
    "csd_aright_act =  csd_multitaper(epochs['cue_right'], fmin=8, fmax=12, tmin= 0.3, tmax= 0.8, bandwidth = 3, low_bias = True, verbose = False, n_jobs=-1)"
   ]
  },
  {
   "cell_type": "markdown",
   "metadata": {},
   "source": [
    "The spatial filters must be based on the covariance matrices combined ('common spatial filter'). Therefore the CSDs are averaged: "
   ]
  },
  {
   "cell_type": "code",
   "execution_count": 6,
   "metadata": {},
   "outputs": [],
   "source": [
    "csd_acommon = csd_aleft_cue\n",
    "csd_anoise =  csd_aleft_pre\n",
    "csd_acommon._data = (csd_aleft_cue._data + csd_aright_cue._data + \n",
    "                         csd_aleft_act._data + csd_aright_act._data)/4\n",
    "\n",
    "csd_anoise._data = (csd_aleft_pre._data + csd_aright_pre._data)/2"
   ]
  },
  {
   "cell_type": "markdown",
   "metadata": {},
   "source": [
    "For calculating the spatial filters we also need to derive the rank of the CSD. It will be similar to the the rank of the coveriance matrix: "
   ]
  },
  {
   "cell_type": "code",
   "execution_count": 8,
   "metadata": {},
   "outputs": [
    {
     "name": "stdout",
     "output_type": "stream",
     "text": [
      "Computing rank from data with rank=None\n",
      "    Estimated rank (mag + grad): 69\n",
      "    MEG: rank 69 computed from 306 data channels with 0 projectors\n",
      "{'meg': 69}\n"
     ]
    }
   ],
   "source": [
    "rank = mne.compute_rank(epochs, tol=1e-6, tol_kind='relative', proj = False)\n",
    "print(rank)"
   ]
  },
  {
   "cell_type": "code",
   "execution_count": 7,
   "metadata": {},
   "outputs": [],
   "source": [
    "rank = {'meg': 69}"
   ]
  },
  {
   "cell_type": "raw",
   "metadata": {},
   "source": []
  },
  {
   "cell_type": "markdown",
   "metadata": {},
   "source": [
    "Note that the rank is 69 eventhough there were 306 used in the calculations. The rank deficiency is caused by the SSS and the ICA algorithms and therefore requires a regulatization before inverting in the beamforming calculation. \n",
    "\n",
    "### Derive the spatial filters for the alpha band\n",
    "\n",
    "Now calculate the filters using the forward model (*fwd*) and the combined CSD matrix (*csd_common*). The filters are regularized corresponding to loading the diagonal of the covariance matrix with 5% of the sensor power. For each source the orientation is optimized to maximize the power of the output. Defining *noise_csd* serve to perform spatial prewhitening of the data (Sekihara et al. 2008, Engemann and Gramfort 2015, Westner et al. 2021). We here do this using data from the pre-stimulus interval; however, empty room data could be used as well.  As a result the magnetometer and gradiometer signals are uncorrelated to each other but have the same variance. Since the whitening is done separately for the magnetometers and gradiometers, the scale difference between the scale disappears allowing for the data from the two sensor types to be combined. The compensentation for depth bias is set (*depth = 0*) as condition or intervals will be compared. The relative comparisons alleviate depth bias. The *mean* in *csd_common.mean()* serves to average the CSDs over frequencies. Given that the covariance (or CSD) are severely rank-deficient due to the application of SSS and ICA, MNE-Python automatically computes a truncated pseudo-inverse using the rank calculated above. For the data ($X$) with rank $k$ the truncated pseudo-inverse ($X^\\dagger$) is calculated using singular value decomposition $ X = U \\Sigma V^T$ ; $X^\\dagger = V \\Sigma^{-1}_k U^T$\n",
    "where we consider the first $k$ diagonal values of $\\Sigma$ as well as the first $k$ columns of $U$ and $V$.  This allows for the DISC algorithm is effectively applied in a virtual channel space of size *rank* (= 69 in this case) and no further regularization is required (reg = 0)."
   ]
  },
  {
   "cell_type": "code",
   "execution_count": 8,
   "metadata": {},
   "outputs": [
    {
     "name": "stdout",
     "output_type": "stream",
     "text": [
      "Identifying common channels ...\n",
      "Dropped the following channels:\n",
      "['STI009', 'STI011', 'STI102', 'STI012', 'STI015', 'IAS_Y', 'IASZ-', 'IASX+', 'STI008', 'IASX-', 'STI005', 'SYS201', 'IASZ+', 'STI002', 'IAS_DX', 'MISC001', 'SYS101', 'STI010', 'EOG002', 'STI004', 'IASY-', 'IAS_Z', 'STI007', 'MISC002', 'MISC003', 'STI003', 'IAS_DY', 'STI001', 'STI101', 'STI014', 'IASY+', 'STI013', 'EOG001', 'ECG003', 'STI006', 'IAS_X', 'STI016']\n",
      "Identifying common channels ...\n",
      "Computing inverse operator with 306 channels.\n",
      "    306 out of 306 channels remain after picking\n",
      "Selected 306 channels\n",
      "Whitening the forward solution.\n",
      "Computing rank from covariance with rank={'meg': 69}\n",
      "    Setting small MEG eigenvalues to zero (without PCA)\n",
      "Creating the source covariance matrix\n",
      "Adjusting source covariance matrix.\n",
      "Computing rank from covariance with rank={'meg': 69}\n",
      "Computing rank from covariance with rank={'meg': 69}\n",
      "Computing DICS spatial filters...\n",
      "Computing beamformer filters for 12065 sources\n",
      "Filter computation complete\n"
     ]
    }
   ],
   "source": [
    "#afilters = make_dics(epochs.info, fwd, csd_acommon.mean() , noise_csd=csd_anoise.mean(), \n",
    "#                    reg=0, pick_ori='max-power', reduce_rank=True, real_filter=True, rank=rank, depth = 0)\n",
    "afilters = make_dics(epochs.info, fwd, csd_acommon.mean() , noise_csd=csd_anoise.mean(), \n",
    "                    reg=0, pick_ori='max-power', reduce_rank=True, real_filter=True, rank=rank, depth = 0)"
   ]
  },
  {
   "cell_type": "code",
   "execution_count": 9,
   "metadata": {},
   "outputs": [
    {
     "name": "stdout",
     "output_type": "stream",
     "text": [
      "Computing DICS source power...\n",
      "[done]\n",
      "Computing DICS source power...\n",
      "[done]\n",
      "Computing DICS source power...\n",
      "[done]\n",
      "Computing DICS source power...\n",
      "[done]\n"
     ]
    }
   ],
   "source": [
    "stc_aleft_cue, freqs = apply_dics_csd(csd_aleft_cue.mean(), afilters)\n",
    "stc_aleft_act, freqs  = apply_dics_csd(csd_aleft_act.mean(), afilters)\n",
    "stc_aright_cue, freqs = apply_dics_csd(csd_aright_cue.mean(), afilters)\n",
    "stc_aright_act, freqs  = apply_dics_csd(csd_aright_act.mean(), afilters)"
   ]
  },
  {
   "cell_type": "markdown",
   "metadata": {},
   "source": [
    "Calculate the relative change in power; i.e. the change in alpha power comparing the interval before and after the moving grating onset. Note that we are always comparing intervals or conditions in order to remove the depth bias confound: "
   ]
  },
  {
   "cell_type": "code",
   "execution_count": 10,
   "metadata": {},
   "outputs": [],
   "source": [
    "stc_arel = ((stc_aleft_act + stc_aright_act) - (stc_aleft_cue + stc_aright_cue)) / (stc_aleft_cue + stc_aright_cue)\n"
   ]
  },
  {
   "cell_type": "markdown",
   "metadata": {},
   "source": [
    "Calculate the changed in relative power for comparing the right versus left attention condutions during the moving gratings interval:"
   ]
  },
  {
   "cell_type": "code",
   "execution_count": 11,
   "metadata": {},
   "outputs": [],
   "source": [
    "stc_aRvsL = (stc_aright_cue - stc_aleft_cue) / (stc_aright_cue + stc_aleft_cue)\n"
   ]
  },
  {
   "cell_type": "markdown",
   "metadata": {},
   "source": [
    "### Plotting the alpha band modulation\n"
   ]
  },
  {
   "cell_type": "markdown",
   "metadata": {},
   "source": [
    "Now plot the source results: "
   ]
  },
  {
   "cell_type": "code",
   "execution_count": 14,
   "metadata": {},
   "outputs": [
    {
     "name": "stdout",
     "output_type": "stream",
     "text": [
      "<SourceSpaces: [<volume, shape=(33, 36, 32), n_used=12065>] head coords, subject 'sub-01', ~74.3 MB>\n",
      "Showing: t = 0.000 s, (33.1, 28.0, 35.8) mm, [22, 23, 28] vox, 34045 vertex\n",
      "Using control points [0.17884362 0.19497399 0.3179827 ]\n"
     ]
    }
   ],
   "source": [
    "src = fwd['src']\n",
    "print(src)\n",
    "\n",
    "%matplotlib qt\n",
    "stc_arel.plot(src=src, subject=fs_subject, subjects_dir=fs_root, mode='stat_map', \n",
    "              verbose = True);\n"
   ]
  },
  {
   "cell_type": "markdown",
   "metadata": {},
   "source": [
    "The above plot show the relative depression in the alpha following the onset of moving gratings. The blue island reflects the occipital depression in alpha power.\n",
    "\n",
    "To browse the slice use the following command and the mouse to navigate:"
   ]
  },
  {
   "cell_type": "code",
   "execution_count": 106,
   "metadata": {},
   "outputs": [],
   "source": [
    "# %matplotlib qt\n",
    "#stc_arel.plot(src=src, subject=fs_subject, subjects_dir=fs_root, mode='stat_map', \n",
    "#              verbose = True);\n"
   ]
  },
  {
   "cell_type": "code",
   "execution_count": 107,
   "metadata": {},
   "outputs": [
    {
     "name": "stdout",
     "output_type": "stream",
     "text": [
      "Showing: t = 0.000 s, (13.1, -57.0, -39.2) mm, [18, 6, 13] vox, 15660 vertex\n",
      "Using control points [0.08631156 0.09404369 0.14066468]\n"
     ]
    },
    {
     "data": {
      "image/png": "[encoded data removed]",
      "text/plain": [
       "<Figure size 640x480 with 6 Axes>"
      ]
     },
     "metadata": {},
     "output_type": "display_data"
    }
   ],
   "source": [
    "%matplotlib inline\n",
    "stc_aRvsL.plot(src=src, subject=fs_subject, subjects_dir=fs_root, mode='stat_map');\n"
   ]
  },
  {
   "cell_type": "markdown",
   "metadata": {},
   "source": [
    "The sources in the posterior areas reflect the modulation of the alpha band activity when the partipant in attention to the right versus left moving gratings. The right orange island reflects the well-known ipsi-lateral reflective increase in alpha band power.  "
   ]
  },
  {
   "cell_type": "markdown",
   "metadata": {},
   "source": [
    "**Question 1** Plot the DISC output (of e.g. *stc_aright_act*) on the MRI prior to doing a comparision. Interpret the outcome.\n",
    "\n",
    "**Question 2** Change the rank of the data when calculating the filter to 100: *rank={'meg':100}*. How does it affect the outcome? \n"
   ]
  },
  {
   "cell_type": "markdown",
   "metadata": {},
   "source": [
    "# Source modeling of modulations of gamma band activity"
   ]
  },
  {
   "cell_type": "markdown",
   "metadata": {},
   "source": [
    "We will next localize the sources associated with the modulation in the 60 - 90 Hz gamma band. For this, we will apply the multitaper approach to ensure suffient spectral smoothing.\n",
    "\n",
    "As a first step, calculate the CSD for the pre- and post-interval as well as all conditions. The bandwidth here is 2ΔF = 8 Hz and the time window ΔT = 0.475 s. This results in 3 tapers (as N <  2ΔF ΔT). "
   ]
  },
  {
   "cell_type": "code",
   "execution_count": 116,
   "metadata": {},
   "outputs": [],
   "source": [
    "csd_gleft_pre   = csd_multitaper(epochs['cue_left'],  fmin=60, fmax=90, tmin=-1.9, tmax=-1.4, bandwidth = 8, adaptive=True, low_bias = True,verbose = False, n_jobs=-1)\n",
    "csd_gright_pre  = csd_multitaper(epochs['cue_right'], fmin=60, fmax=90, tmin=-1.9, tmax=-1.4, bandwidth = 8, adaptive=True, low_bias = True,verbose = False, n_jobs=-1)\n",
    "\n",
    "csd_gleft_cue =  csd_multitaper(epochs['cue_left'],  fmin=60, fmax=90, tmin=-0.6, tmax=-0.1, bandwidth = 8, adaptive=True, low_bias = True, verbose = False, n_jobs=-1)\n",
    "csd_gleft_act =  csd_multitaper(epochs['cue_left'],  fmin=60, fmax=90, tmin= 0.1, tmax= 0.6, bandwidth = 8, adaptive=True, low_bias = True, verbose = False, n_jobs=-1)\n",
    "csd_gright_cue = csd_multitaper(epochs['cue_right'], fmin=60, fmax=90, tmin=-0.6, tmax=-0.1, bandwidth = 8, adaptive=True, low_bias = True, verbose = False, n_jobs=-1)\n",
    "csd_gright_act = csd_multitaper(epochs['cue_right'], fmin=60, fmax=90, tmin= 0.1, tmax= 0.6, bandwidth = 8, adaptive=True, low_bias = True, verbose = False, n_jobs=-1)"
   ]
  },
  {
   "cell_type": "code",
   "execution_count": 118,
   "metadata": {},
   "outputs": [],
   "source": [
    "csd_gcommon = csd_gleft_cue\n",
    "csd_gnoise =  csd_aleft_pre\n",
    "\n",
    "csd_gcommon._data = (csd_gleft_cue._data + csd_gright_cue._data + csd_gleft_act._data + csd_gright_act._data)/4\n",
    "csd_gnoise._data = (csd_gleft_pre._data + csd_gright_pre._data)/2"
   ]
  },
  {
   "cell_type": "markdown",
   "metadata": {},
   "source": [
    "### Derive the spatial filters for the gamma band\n",
    "\n",
    "The filters will be calculated on the basis of the common CSD. The rank estimate based on the covariance matrix will be used. The deduced rank is due to the SSS as well as the ICA. \n"
   ]
  },
  {
   "cell_type": "code",
   "execution_count": 125,
   "metadata": {},
   "outputs": [
    {
     "name": "stdout",
     "output_type": "stream",
     "text": [
      "Identifying common channels ...\n",
      "Dropped the following channels:\n",
      "['STI014', 'STI005', 'STI015', 'MISC002', 'STI006', 'STI001', 'MISC003', 'MISC001', 'STI011', 'STI012', 'IAS_X', 'IAS_DX', 'IAS_DY', 'STI016', 'EOG002', 'STI007', 'STI008', 'SYS201', 'STI003', 'IASX+', 'STI102', 'IASZ+', 'STI002', 'STI010', 'IAS_Y', 'STI101', 'ECG003', 'IASZ-', 'EOG001', 'STI009', 'IASX-', 'IASY+', 'STI004', 'IAS_Z', 'STI013', 'SYS101', 'IASY-']\n",
      "Identifying common channels ...\n",
      "Computing inverse operator with 306 channels.\n",
      "    306 out of 306 channels remain after picking\n",
      "Selected 306 channels\n",
      "Whitening the forward solution.\n",
      "Computing rank from covariance with rank={'meg': 69}\n",
      "    Setting small MEG eigenvalues to zero (without PCA)\n",
      "Creating the source covariance matrix\n",
      "Adjusting source covariance matrix.\n",
      "Computing rank from covariance with rank={'meg': 69}\n",
      "Computing rank from covariance with rank={'meg': 69}\n",
      "Computing DICS spatial filters...\n",
      "Computing beamformer filters for 12065 sources\n",
      "Filter computation complete\n"
     ]
    }
   ],
   "source": [
    "gfilters = make_dics(epochs.info, fwd, csd_gcommon.mean() , noise_csd=csd_gnoise.mean(), reg=0, pick_ori='max-power',\n",
    "                        reduce_rank=True, real_filter=True, rank=rank, depth = 0)\n"
   ]
  },
  {
   "cell_type": "markdown",
   "metadata": {},
   "source": [
    "### Apply the filters and plot the gamma modulation\n",
    "\n",
    "The filters are then applied"
   ]
  },
  {
   "cell_type": "code",
   "execution_count": 126,
   "metadata": {},
   "outputs": [
    {
     "name": "stdout",
     "output_type": "stream",
     "text": [
      "Computing DICS source power...\n",
      "[done]\n",
      "Computing DICS source power...\n",
      "[done]\n",
      "Computing DICS source power...\n",
      "[done]\n",
      "Computing DICS source power...\n",
      "[done]\n"
     ]
    }
   ],
   "source": [
    "stc_gleft_cue, freqs = apply_dics_csd(csd_gleft_cue.mean(), gfilters)\n",
    "stc_gleft_act, freqs  = apply_dics_csd(csd_gleft_act.mean(), gfilters)\n",
    "stc_gright_cue, freqs = apply_dics_csd(csd_gright_cue.mean(), gfilters)\n",
    "stc_gright_act, freqs  = apply_dics_csd(csd_gright_act.mean(), gfilters)"
   ]
  },
  {
   "cell_type": "markdown",
   "metadata": {},
   "source": [
    "Now calculate the relative modulation in gamma power with respect to the baseline:"
   ]
  },
  {
   "cell_type": "code",
   "execution_count": 127,
   "metadata": {},
   "outputs": [],
   "source": [
    "stc_grel = ((stc_gleft_act + stc_gright_act) - (stc_gleft_cue + stc_gright_cue)) / (stc_gleft_cue + stc_gright_cue)"
   ]
  },
  {
   "cell_type": "markdown",
   "metadata": {},
   "source": [
    "and subsequently the hemisperic lateralization with respect to attention:"
   ]
  },
  {
   "cell_type": "code",
   "execution_count": 128,
   "metadata": {},
   "outputs": [],
   "source": [
    "stc_gRvsL = (stc_gright_act - stc_gleft_act) / (stc_gright_act + stc_gleft_act)"
   ]
  },
  {
   "cell_type": "markdown",
   "metadata": {},
   "source": [
    "and plot the relative modulation. Note the increase in gamma power in visual cortex"
   ]
  },
  {
   "cell_type": "code",
   "execution_count": 129,
   "metadata": {},
   "outputs": [
    {
     "name": "stdout",
     "output_type": "stream",
     "text": [
      "Showing: t = 0.000 s, (-61.9, -2.0, 0.8) mm, [3, 17, 21] vox, 25512 vertex\n"
     ]
    }
   ],
   "source": [
    "src = fwd['src']\n",
    "%matplotlib qt\n",
    "#%matplotlib qt\n",
    "\n",
    "stc_grel.plot(src=src, subject=fs_subject, subjects_dir=fs_root, mode='stat_map',clim=dict(kind='value', pos_lims=[0.02,0.02,0.13]));\n",
    "#stc_grel.plot(src=src, subject=fs_subject, subjects_dir=fs_root, mode='stat_map');\n"
   ]
  },
  {
   "cell_type": "markdown",
   "metadata": {},
   "source": [
    "Use the navitation to move to visual cortex. \n",
    "The increase of the gamma activity is correclty localized in early visual cortex along the calcarine sulcus.  \n",
    "\n",
    "To illustrate the modulation in gamma band activity with attention write: "
   ]
  },
  {
   "cell_type": "code",
   "execution_count": 115,
   "metadata": {},
   "outputs": [
    {
     "name": "stdout",
     "output_type": "stream",
     "text": [
      "Showing: t = 0.000 s, (-66.9, -2.0, -19.2) mm, [2, 17, 17] vox, 20759 vertex\n"
     ]
    }
   ],
   "source": [
    "stc_gRvsL.plot(src=src, subject=fs_subject, subjects_dir=fs_root, \n",
    "              mode='stat_map', clim=dict(kind='value', pos_lims=[0.01,0.01,0.053]));\n",
    "#stc_gRvsL.plot(src=src, subject=subject, subjects_dir=mri_dir, \n",
    "#              mode='stat_map');"
   ]
  },
  {
   "cell_type": "markdown",
   "metadata": {},
   "source": [
    "The above plots should be interpreted with caution. The right hemisphere decrease is expected, but it is not complemented by an increase in the left hemisphetre. This result is most likely explained by the SNR being too low. "
   ]
  },
  {
   "cell_type": "markdown",
   "metadata": {},
   "source": [
    "## Preregistration and publications\n",
    "\n",
    "\n",
    "Example for text to be used for publications and preregistration:\n",
    "\n",
    "\"The Dynamics Imaging of Coherent Sources (DICSs) approach  (Gross et al., 2001) was applied to localize the modulations of oscillatory brain activity. To localize the modulation in the alpha band, the cross-spectral density (CSD) was calculated for the 8 to 12 Hz band using a multi-taper approach applying 2 Hz spectral smoothing. The CSD matrix was then calculated for the 300 - 800 ms stimulus interval in which the gratings were shown as well as the -800 – -300 ms pre-stimulus interval (using one DPSS taper). The combined CSD was used with the forward model to create a common spatial filter. This was done by first estimating the rank of the data (being reduced to ~70 due to the SSS and ICA approaches). The data were spatially pre-whitened using the covariance matrix from the baseline interval which allowed for combining the gradiometer and magnetometer data in the source modelling. The truncated pseudo-inverse was then calculated based on the estimated rank (Jas et al., 2018). For each source, the orientation was optimized to maximize the power of the output. The spatial filter was then applied to the CSDs to calculate the relative change in alpha power. As similar approach was used for the gamma band now considering the 60 - 90 Hz band and 8 Hz spectral smoothing (resulting in 3 DPSS tapers). The pre-stimulus time-interval was -0.6 to -0.125 s and the post-stimulus interval was 0.125 to 0.6 s. The source data were then mapped to the structural MRI. \""
   ]
  },
  {
   "cell_type": "markdown",
   "metadata": {
    "tags": []
   },
   "source": [
    "## References\n",
    "\n",
    "* Gross J, Kujala J, Hamalainen M, Timmermann L, Schnitzler A, Salmelin R. (2001) Dynamic imaging of coherent sources: Studying neural interactions in the human brain. Proc Natl Acad Sci U S A. 98(2):694-9.\n",
    "\n",
    "* Engemann DA, Gramfort A. (2015) Automated model selection in covariance estimation and spatial whitening of MEG and EEG signals. Neuroimage 108:328-42.\n",
    "\n",
    "* Sekihara K, Hild KE, Dalal SS, Nagarajan SS. (2008) Performance of prewhitening beamforming in MEG dual experimental conditions. IEEE Trans Biomed Eng. 55(3):1112-21.\n",
    "\n",
    "* van Vliet M, Liljeström M, Aro S, Salmelin R, Kujala J. (2018) Analysis of Functional Connectivity and Oscillatory Power Using DICS: From Raw MEG Data to Group-Level Statistics in Python. Front Neurosci. 12:586.\n",
    "\n",
    "* Westner BU, Dalal SS, Gramfort A, Litvak V, Mosher JC, Oostenveld R, Schoffelen JM. (2021) A unified view on beamformers for M/EEG source reconstruction. Neuroimage 246:118789."
   ]
  }
 ],
 "metadata": {
  "kernelspec": {
   "display_name": "Python 3 (ipykernel)",
   "language": "python",
   "name": "python3"
  },
  "language_info": {
   "codemirror_mode": {
    "name": "ipython",
    "version": 3
   },
   "file_extension": ".py",
   "mimetype": "text/x-python",
   "name": "python",
   "nbconvert_exporter": "python",
   "pygments_lexer": "ipython3",
   "version": "3.11.5"
  },
  "vscode": {
   "interpreter": {
    "hash": "12a257d0362ebf338d2a0eaea5babc896c799574f6a031ea58f2eeafdd46f274"
   }
  }
 },
 "nbformat": 4,
 "nbformat_minor": 4
}
