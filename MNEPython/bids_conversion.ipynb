{
 "cells": [
  {
   "cell_type": "code",
   "execution_count": null,
   "metadata": {},
   "outputs": [],
   "source": [
    "import os.path as op\n",
    "\n",
    "import matplotlib.pyplot as plt\n",
    "\n",
    "import mne\n",
    "from mne_bids import (BIDSPath, write_raw_bids, read_raw_bids, \n",
    "                      write_meg_calibration, write_meg_crosstalk, \n",
    "                      get_anat_landmarks, write_anat)"
   ]
  },
  {
   "cell_type": "code",
   "execution_count": null,
   "metadata": {},
   "outputs": [],
   "source": [
    "# fill these out\n",
    "subject = '01'  # subject code in mTBI project\n",
    "session = '01'  # data collection session within each run\n",
    "task = 'SpAtt'  # name of the task\n",
    "\n",
    "# specify specific file names\n",
    "MEG_data_root = r'Z:\\Projects\\FLUX\\MEG_data'  # RDS folder for MEG data\n",
    "bids_root = op.join(MEG_data_root, 'BIDS-data')\n",
    "file_extension = '.fif'\n",
    "\n",
    "# Define the fine calibration and cross-talk compensation files for BIDS\n",
    "maxfilter_folder = op.join(MEG_data_root, 'MaxFilter')\n",
    "crosstalk_file = op.join(maxfilter_folder, 'CT_sparse_SA.fif')  #'reduces interference' \n",
    "                                                                #'between Elekta's co-located' \n",
    "                                                                #'magnetometer and'\n",
    "                                                                #'paired gradiometer sensor units'\n",
    "calibration_file = op.join(maxfilter_folder, 'sss_cal_SA.dat')  #'encodes site-specific'\n",
    "                                                                #'information about sensor' \n",
    "                                                                #'orientations and calibration'\n",
    "events_id = {'block_start':1, 'trial_start':3, 'trial_end':4,\n",
    "             'target_onset':5, 'ITI':10, 'cue_left':21, 'cue_right':22,\n",
    "             'unknown_1':55, 'unknown_2':56}    "
   ]
  },
  {
   "cell_type": "code",
   "execution_count": null,
   "metadata": {},
   "outputs": [],
   "source": [
    "# Read the events from stim channel\n",
    "for run in range(1,3):\n",
    "    file_name = f'training_raw-{run}'\n",
    "    raw_fname = op.join(MEG_data_root, file_name + file_extension) \n",
    "    filename_events = op.join(MEG_data_root, file_name + '-eve' + file_extension)\n",
    "\n",
    "\n",
    "    # read raw and define the stim channel\n",
    "    raw = mne.io.read_raw_fif(raw_fname, allow_maxshield=True, \n",
    "                              verbose=True, preload=False)\n",
    "    stim_channel = 'STI101'\n",
    "\n",
    "\n",
    "    events = mne.find_events(raw, stim_channel=stim_channel, min_duration=0.001001,\n",
    "                             consecutive=False, mask=65280,\n",
    "                             mask_type='not_and')  #' mask removes triggers associated\n",
    "                                                   # with response box channel \n",
    "                                                   # (not the response triggers)'\n",
    "   \n",
    "    # Save the events in a dedicted FIF-file: \n",
    "    mne.write_events(filename_events, events, overwrite=True)\n",
    "    \n",
    "    # Visualise a part of the events-array\n",
    "    plt.figure()\n",
    "    plt.stem(events[:,0], events[:,2])\n",
    "    plt.xlim(min(events[:,0]), min(events[:,0])+100000)\n",
    "    plt.title('events')\n",
    "    plt.xlabel('sample')\n",
    "    plt.ylabel('Trigger value (STI101)')\n",
    "\n",
    "    plt.show()  # show all plots together\n",
    "\n",
    "    # Bids preparation\n",
    "    bids_path = BIDSPath(subject=subject, session=session,\n",
    "                          task=task, run=run, root=bids_root)\n",
    "    \n",
    "\n",
    "    write_raw_bids(raw, bids_path, events_data=events, \n",
    "                       event_id=events_id, overwrite=True)\n",
    "    \n",
    "    # Write in Maxfilter files\n",
    "    write_meg_calibration(calibration_file, bids_path=bids_path, verbose=False)\n",
    "    write_meg_crosstalk(crosstalk_file, bids_path=bids_path, verbose=False)"
   ]
  },
  {
   "cell_type": "code",
   "execution_count": null,
   "metadata": {},
   "outputs": [],
   "source": [
    "# MRI bids conversion\n",
    "\"\"\" using the trans file created by coregistration, we now convert T1W MRI file \n",
    "to bids format\"\"\"\n",
    "bids_path = BIDSPath(subject=subject, session=session,\n",
    "                     task=task, run=run, root=bids_root)\n",
    "MRI_data_root = r'Z:\\Projects\\FLUX\\MRI_data'  # RDS folder for trans file\n",
    "trans_fname = op.join(MRI_data_root, 'trans.fif')\n",
    "fs_sub_dir = r'Z:\\Projects\\mTBI_predict\\Collected_Data\\MRI_data\\sub-04'  # FreeSurfer directory for this subject #needs modifications\n",
    "fs_sub = 'sub-04'\n",
    "t1_fname = op.join(fs_sub_dir, fs_sub + '.nii')\n",
    "\n",
    "# Create the BIDSpath object\n",
    "\"\"\" creat MRI specific bidspath object and then use trans file to transform \n",
    "landmarks from the raw file to the voxel space of the image\"\"\"\n",
    "\n",
    "t1w_bids_path = BIDSPath(subject=subject, session=session, \n",
    "                         root=bids_root, suffix='T1w')\n",
    "\n",
    "info = read_raw_bids(bids_path=bids_path, verbose=False).info\n",
    "trans = mne.read_trans(trans_fname)  \n",
    "landmarks = get_anat_landmarks(\n",
    "    image=t1_fname,  # path to the nifti file\n",
    "    info=info,  # MEG data file info from the subject\n",
    "    trans=trans,\n",
    "    fs_subject=fs_sub,\n",
    "    fs_subjects_dir=fs_sub_dir)\n",
    "\n",
    "t1w_bids_path = write_anat(\n",
    "    image=t1_fname, bids_path=t1w_bids_path,\n",
    "    landmarks=landmarks, deface=True,\n",
    "    overwrite=True, verbose=True)"
   ]
  }
 ],
 "metadata": {
  "kernelspec": {
   "display_name": "Python 3.10.8 ('flux')",
   "language": "python",
   "name": "python3"
  },
  "language_info": {
   "codemirror_mode": {
    "name": "ipython",
    "version": 3
   },
   "file_extension": ".py",
   "mimetype": "text/x-python",
   "name": "python",
   "nbconvert_exporter": "python",
   "pygments_lexer": "ipython3",
   "version": "3.10.8"
  },
  "orig_nbformat": 4,
  "vscode": {
   "interpreter": {
    "hash": "d4bb03f97efaa4a6e6bd96b6dbb810e96a21614e05e834deaba9f8f83d126801"
   }
  }
 },
 "nbformat": 4,
 "nbformat_minor": 2
}
