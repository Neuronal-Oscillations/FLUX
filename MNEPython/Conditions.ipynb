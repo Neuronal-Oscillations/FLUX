{
 "cells": [
  {
   "cell_type": "markdown",
   "metadata": {},
   "source": [
    "# Extracting condition-specific trials\n",
    "\n",
    "The aim of this section is to extract the trials according to the trigger channel. We will explain how the events can be generated from the stimulus channels and how to extract condition specific trials (epochs). Once the trials are extracted, bad epochs will be identified and excluded on based on their peak-to-peak signal amplitude.\n",
    "\n",
    "## Preparation\n",
    "\n",
    "Import the relevant Python modules:"
   ]
  },
  {
   "cell_type": "code",
   "execution_count": 1,
   "metadata": {},
   "outputs": [
    {
     "name": "stderr",
     "output_type": "stream",
     "text": [
      "C:\\Users\\parkh\\AppData\\Roaming\\Python\\Python310\\site-packages\\pandas\\core\\computation\\expressions.py:21: UserWarning: Pandas requires version '2.8.4' or newer of 'numexpr' (version '2.8.0' currently installed).\n",
      "  from pandas.core.computation.check import NUMEXPR_INSTALLED\n"
     ]
    }
   ],
   "source": [
    "import os.path as op\n",
    "import os\n",
    "import sys\n",
    "import pandas as pd\n",
    "import numpy as np\n",
    "import matplotlib.pyplot as plt\n",
    "\n",
    "import mne\n",
    "from mne_bids import BIDSPath, read_raw_bids"
   ]
  },
  {
   "cell_type": "markdown",
   "metadata": {},
   "source": [
    "Set the paths for the data and results. Note that these will depend on your local setup."
   ]
  },
  {
   "cell_type": "code",
   "execution_count": 2,
   "metadata": {},
   "outputs": [
    {
     "name": "stdout",
     "output_type": "stream",
     "text": [
      "sub-01_ses-01_task-SpAtt_run-01_ica.fif C:\\Users\\parkh\\MEG Dropbox\\Hyojin Park\\FLUX\\derivatives\\Preprocessing\\sub-01\\ses-01\\meg\\sub-01_ses-01_task-SpAtt_run-01_ica.fif\n",
      "sub-01_ses-01_task-SpAtt_run-01_epo.fif C:\\Users\\parkh\\MEG Dropbox\\Hyojin Park\\FLUX\\derivatives\\Analysis\\sub-01\\ses-01\\meg\\sub-01_ses-01_task-SpAtt_run-01_epo.fif\n",
      "C:\\Users\\parkh\\MEG Dropbox\\Hyojin Park\\FLUX\\derivatives\\Analysis\\sub-01\\ses-01\\meg\\sub-01_ses-01_task-SpAtt_run-12_epo.fif\n",
      "C:\\Users\\parkh\\MEG Dropbox\\Hyojin Park\\FLUX\\sub-01\\ses-01\\meg\\sub-01_ses-01_task-SpAtt_run-01_meg.fif\n"
     ]
    }
   ],
   "source": [
    "subject = '01'\n",
    "session = '01'\n",
    "task = 'SpAtt'\n",
    "run = '01'\n",
    "meg_suffix = 'meg'\n",
    "ica_suffix = 'ica'\n",
    "epo_suffix = 'epo'\n",
    "\n",
    "preproc_root = r'C:\\Users\\parkh\\MEG Dropbox\\Hyojin Park\\FLUX\\derivatives\\Preprocessing'\n",
    "deriv_root = r'C:\\Users\\parkh\\MEG Dropbox\\Hyojin Park\\FLUX\\derivatives\\Analysis'\n",
    "\n",
    "bids_path_preproc = BIDSPath(subject=subject, session=session,\n",
    "            task=task, run=run, suffix=ica_suffix, datatype='meg',\n",
    "            root=preproc_root, extension='.fif', check=False)\n",
    "\n",
    "bids_path = BIDSPath(subject=subject, session=session,\n",
    "            task=task, run=run, suffix=epo_suffix, datatype='meg',\n",
    "            root=deriv_root, extension='.fif', check=False).mkdir()\n",
    "\n",
    "print(bids_path_preproc.basename, bids_path_preproc.fpath)\n",
    "print(bids_path.basename, bids_path.fpath)\n",
    "\n",
    "deriv_file = bids_path.basename.replace('run-01', 'run-12')  # run 12 -> run 01 concatenated with run 02\n",
    "deriv_fname = op.join(bids_path.directory, deriv_file)\n",
    "print(deriv_fname)\n",
    "\n",
    "# define the bids path to raw data and events file\n",
    "raw_path = bids_path.copy().update(root=r'C:\\Users\\parkh\\MEG Dropbox\\Hyojin Park\\FLUX', \n",
    "                                   suffix=meg_suffix, extension='.fif', check=False)\n",
    "print(raw_path.fpath)"
   ]
  },
  {
   "cell_type": "markdown",
   "metadata": {},
   "source": [
    "## Reading the events from the stimulus channels\n",
    "First read all the events from the stimulus channel (in our case, STI01). We will loop over the 2 fif-files created in the previous step."
   ]
  },
  {
   "cell_type": "code",
   "execution_count": 3,
   "metadata": {},
   "outputs": [
    {
     "name": "stdout",
     "output_type": "stream",
     "text": [
      "Opening raw data file C:\\Users\\parkh\\MEG Dropbox\\Hyojin Park\\FLUX\\derivatives\\Preprocessing\\sub-01\\ses-01\\meg\\sub-01_ses-01_task-SpAtt_run-01_ica.fif...\n"
     ]
    },
    {
     "name": "stderr",
     "output_type": "stream",
     "text": [
      "C:\\Users\\parkh\\AppData\\Local\\Temp\\ipykernel_39240\\562001228.py:3: RuntimeWarning: This filename (C:\\Users\\parkh\\MEG Dropbox\\Hyojin Park\\FLUX\\derivatives\\Preprocessing\\sub-01\\ses-01\\meg\\sub-01_ses-01_task-SpAtt_run-01_ica.fif) does not conform to MNE naming conventions. All raw files should end with raw.fif, raw_sss.fif, raw_tsss.fif, _meg.fif, _eeg.fif, _ieeg.fif, raw.fif.gz, raw_sss.fif.gz, raw_tsss.fif.gz, _meg.fif.gz, _eeg.fif.gz or _ieeg.fif.gz\n",
      "  raw = read_raw_bids(bids_path=bids_path_preproc,\n"
     ]
    },
    {
     "name": "stdout",
     "output_type": "stream",
     "text": [
      "    Range : 1665000 ... 3098999 =   1665.000 ...  3098.999 secs\n",
      "Ready.\n",
      "Opening raw data file C:\\Users\\parkh\\MEG Dropbox\\Hyojin Park\\FLUX\\sub-01\\ses-01\\meg\\sub-01_ses-01_task-SpAtt_run-01_meg.fif...\n"
     ]
    },
    {
     "name": "stderr",
     "output_type": "stream",
     "text": [
      "C:\\Users\\parkh\\AppData\\Local\\Temp\\ipykernel_39240\\562001228.py:3: RuntimeWarning: Did not find any events.tsv associated with sub-01_ses-01_task-SpAtt_run-01.\n",
      "\n",
      "The search_str was \"C:\\Users\\parkh\\MEG Dropbox\\Hyojin Park\\FLUX\\derivatives\\Preprocessing\\sub-01\\**\\meg\\sub-01_ses-01*events.tsv\"\n",
      "  raw = read_raw_bids(bids_path=bids_path_preproc,\n",
      "C:\\Users\\parkh\\AppData\\Local\\Temp\\ipykernel_39240\\562001228.py:3: RuntimeWarning: Did not find any channels.tsv associated with sub-01_ses-01_task-SpAtt_run-01.\n",
      "\n",
      "The search_str was \"C:\\Users\\parkh\\MEG Dropbox\\Hyojin Park\\FLUX\\derivatives\\Preprocessing\\sub-01\\**\\meg\\sub-01_ses-01*channels.tsv\"\n",
      "  raw = read_raw_bids(bids_path=bids_path_preproc,\n",
      "C:\\Users\\parkh\\AppData\\Local\\Temp\\ipykernel_39240\\562001228.py:3: RuntimeWarning: Did not find any meg.json associated with sub-01_ses-01_task-SpAtt_run-01.\n",
      "\n",
      "The search_str was \"C:\\Users\\parkh\\MEG Dropbox\\Hyojin Park\\FLUX\\derivatives\\Preprocessing\\sub-01\\**\\meg\\sub-01_ses-01*meg.json\"\n",
      "  raw = read_raw_bids(bids_path=bids_path_preproc,\n",
      "C:\\Users\\parkh\\AppData\\Local\\Temp\\ipykernel_39240\\562001228.py:3: RuntimeWarning: participants.tsv file not found for C:\\Users\\parkh\\MEG Dropbox\\Hyojin Park\\FLUX\\derivatives\\Preprocessing\\sub-01\\ses-01\\meg\\sub-01_ses-01_task-SpAtt_run-01_ica.fif\n",
      "  raw = read_raw_bids(bids_path=bids_path_preproc,\n"
     ]
    },
    {
     "name": "stdout",
     "output_type": "stream",
     "text": [
      "    Read a total of 8 projection items:\n",
      "        generated with autossp-1.2.0 (1 x 306)  idle\n",
      "        generated with autossp-1.2.0 (1 x 306)  idle\n",
      "        generated with autossp-1.2.0 (1 x 306)  idle\n",
      "        generated with autossp-1.2.0 (1 x 306)  idle\n",
      "        generated with autossp-1.2.0 (1 x 306)  idle\n",
      "        generated with autossp-1.2.0 (1 x 306)  idle\n",
      "        generated with autossp-1.2.0 (1 x 306)  idle\n",
      "        generated with autossp-1.2.0 (1 x 306)  idle\n",
      "    Range : 208000 ... 1664999 =    208.000 ...  1664.999 secs\n",
      "Ready.\n",
      "Reading 0 ... 1456999  =      0.000 ...  1456.999 secs...\n",
      "Reading events from C:\\Users\\parkh\\MEG Dropbox\\Hyojin Park\\FLUX\\sub-01\\ses-01\\meg\\sub-01_ses-01_task-SpAtt_run-01_events.tsv.\n",
      "Reading channel info from C:\\Users\\parkh\\MEG Dropbox\\Hyojin Park\\FLUX\\sub-01\\ses-01\\meg\\sub-01_ses-01_task-SpAtt_run-01_channels.tsv.\n",
      "Dropping cHPI information stored in raw data, following specification in sidecar file\n",
      "Not fully anonymizing info - keeping his_id, sex, and hand info\n",
      "Used Annotations descriptions: ['ITI', 'block_start', 'cue_left', 'cue_right', 'left_resp_maybe', 'right_resp_maybe', 'target_onset', 'trial_end', 'trial_start']\n"
     ]
    },
    {
     "name": "stderr",
     "output_type": "stream",
     "text": [
      "C:\\Users\\parkh\\AppData\\Local\\Temp\\ipykernel_39240\\562001228.py:8: RuntimeWarning: The unit for channel(s) ECG003, EOG001, EOG002, MISC001, MISC002, MISC003 has changed from V to NA.\n",
      "  raw_raw = read_raw_bids(bids_path=raw_path,\n"
     ]
    }
   ],
   "source": [
    "# this section from jupyter notebook has been done before bids conversion. the shareable files only include the bids structured data not eve files.\n",
    "# this section only runs on run=01 for plotting \n",
    "raw = read_raw_bids(bids_path=bids_path_preproc, \n",
    "            extra_params={'preload':False},\n",
    "            verbose=True)\n",
    "               \n",
    "# Some variable preparation in case we are using bids events file instead of mne\n",
    "raw_raw = read_raw_bids(bids_path=raw_path,\n",
    "            extra_params={'preload':True},\n",
    "            verbose=True)\n",
    "\n",
    "# reading the events from the original raw file\n",
    "events, events_id = mne.events_from_annotations(raw_raw, event_id='auto')"
   ]
  },
  {
   "cell_type": "markdown",
   "metadata": {},
   "source": [
    "The code above extract the events from the trigger channel STI101. This results are represented in the array *events* where the first column is the sample and the third column the corresponding trigger value. Note that the events are concatenated across the 2 subfiles.\n",
    "\n",
    "To visualize a snippet of the events-array write:"
   ]
  },
  {
   "cell_type": "code",
   "execution_count": 4,
   "metadata": {},
   "outputs": [
    {
     "data": {
      "image/png": "[encoded data removed]",
      "text/plain": [
       "<Figure size 432x288 with 1 Axes>"
      ]
     },
     "metadata": {
      "needs_background": "light"
     },
     "output_type": "display_data"
    }
   ],
   "source": [
    "%matplotlib inline\n",
    "plt.stem(events[:,0][:80], events[:,2][:80])\n",
    "plt.xlabel('samples')\n",
    "plt.ylabel('Trigger value (STI101)')\n",
    "plt.show()"
   ]
  },
  {
   "cell_type": "markdown",
   "metadata": {},
   "source": [
    "The figures shows an example for part of the events array. The trigger values indicate specific events of the trials. Here the 'attend left' trials are coded with the trigger '21', whereas the 'attend right' trials with '22'.\n"
   ]
  },
  {
   "cell_type": "markdown",
   "metadata": {},
   "source": [
    "## Defining the epochs (trials) according to the event values\n",
    "Next step is to extract the left and right trials "
   ]
  },
  {
   "cell_type": "code",
   "execution_count": 6,
   "metadata": {},
   "outputs": [
    {
     "name": "stdout",
     "output_type": "stream",
     "text": [
      "Opening raw data file C:\\Users\\parkh\\MEG Dropbox\\Hyojin Park\\FLUX\\derivatives\\Preprocessing\\sub-01\\ses-01\\meg\\sub-01_ses-01_task-SpAtt_run-01_ica.fif...\n",
      "    Range : 1665000 ... 3098999 =   1665.000 ...  3098.999 secs\n",
      "Ready.\n",
      "Reading 0 ... 1433999  =      0.000 ...  1433.999 secs...\n"
     ]
    },
    {
     "name": "stderr",
     "output_type": "stream",
     "text": [
      "C:\\Users\\parkh\\AppData\\Local\\Temp\\ipykernel_39240\\4032505207.py:10: RuntimeWarning: This filename (C:\\Users\\parkh\\MEG Dropbox\\Hyojin Park\\FLUX\\derivatives\\Preprocessing\\sub-01\\ses-01\\meg\\sub-01_ses-01_task-SpAtt_run-01_ica.fif) does not conform to MNE naming conventions. All raw files should end with raw.fif, raw_sss.fif, raw_tsss.fif, _meg.fif, _eeg.fif, _ieeg.fif, raw.fif.gz, raw_sss.fif.gz, raw_tsss.fif.gz, _meg.fif.gz, _eeg.fif.gz or _ieeg.fif.gz\n",
      "  raw = read_raw_bids(bids_path=bids_path_preproc,\n"
     ]
    },
    {
     "name": "stdout",
     "output_type": "stream",
     "text": [
      "Opening raw data file C:\\Users\\parkh\\MEG Dropbox\\Hyojin Park\\FLUX\\sub-01\\ses-01\\meg\\sub-01_ses-01_task-SpAtt_run-01_meg.fif...\n"
     ]
    },
    {
     "name": "stderr",
     "output_type": "stream",
     "text": [
      "C:\\Users\\parkh\\AppData\\Local\\Temp\\ipykernel_39240\\4032505207.py:10: RuntimeWarning: Did not find any events.tsv associated with sub-01_ses-01_task-SpAtt_run-01.\n",
      "\n",
      "The search_str was \"C:\\Users\\parkh\\MEG Dropbox\\Hyojin Park\\FLUX\\derivatives\\Preprocessing\\sub-01\\**\\meg\\sub-01_ses-01*events.tsv\"\n",
      "  raw = read_raw_bids(bids_path=bids_path_preproc,\n",
      "C:\\Users\\parkh\\AppData\\Local\\Temp\\ipykernel_39240\\4032505207.py:10: RuntimeWarning: Did not find any channels.tsv associated with sub-01_ses-01_task-SpAtt_run-01.\n",
      "\n",
      "The search_str was \"C:\\Users\\parkh\\MEG Dropbox\\Hyojin Park\\FLUX\\derivatives\\Preprocessing\\sub-01\\**\\meg\\sub-01_ses-01*channels.tsv\"\n",
      "  raw = read_raw_bids(bids_path=bids_path_preproc,\n",
      "C:\\Users\\parkh\\AppData\\Local\\Temp\\ipykernel_39240\\4032505207.py:10: RuntimeWarning: Did not find any meg.json associated with sub-01_ses-01_task-SpAtt_run-01.\n",
      "\n",
      "The search_str was \"C:\\Users\\parkh\\MEG Dropbox\\Hyojin Park\\FLUX\\derivatives\\Preprocessing\\sub-01\\**\\meg\\sub-01_ses-01*meg.json\"\n",
      "  raw = read_raw_bids(bids_path=bids_path_preproc,\n",
      "C:\\Users\\parkh\\AppData\\Local\\Temp\\ipykernel_39240\\4032505207.py:10: RuntimeWarning: participants.tsv file not found for C:\\Users\\parkh\\MEG Dropbox\\Hyojin Park\\FLUX\\derivatives\\Preprocessing\\sub-01\\ses-01\\meg\\sub-01_ses-01_task-SpAtt_run-01_ica.fif\n",
      "  raw = read_raw_bids(bids_path=bids_path_preproc,\n"
     ]
    },
    {
     "name": "stdout",
     "output_type": "stream",
     "text": [
      "    Read a total of 8 projection items:\n",
      "        generated with autossp-1.2.0 (1 x 306)  idle\n",
      "        generated with autossp-1.2.0 (1 x 306)  idle\n",
      "        generated with autossp-1.2.0 (1 x 306)  idle\n",
      "        generated with autossp-1.2.0 (1 x 306)  idle\n",
      "        generated with autossp-1.2.0 (1 x 306)  idle\n",
      "        generated with autossp-1.2.0 (1 x 306)  idle\n",
      "        generated with autossp-1.2.0 (1 x 306)  idle\n",
      "        generated with autossp-1.2.0 (1 x 306)  idle\n",
      "    Range : 208000 ... 1664999 =    208.000 ...  1664.999 secs\n",
      "Ready.\n",
      "Reading 0 ... 1456999  =      0.000 ...  1456.999 secs...\n",
      "Reading events from C:\\Users\\parkh\\MEG Dropbox\\Hyojin Park\\FLUX\\sub-01\\ses-01\\meg\\sub-01_ses-01_task-SpAtt_run-01_events.tsv.\n",
      "Reading channel info from C:\\Users\\parkh\\MEG Dropbox\\Hyojin Park\\FLUX\\sub-01\\ses-01\\meg\\sub-01_ses-01_task-SpAtt_run-01_channels.tsv.\n",
      "Dropping cHPI information stored in raw data, following specification in sidecar file\n",
      "Not fully anonymizing info - keeping his_id, sex, and hand info\n"
     ]
    },
    {
     "name": "stderr",
     "output_type": "stream",
     "text": [
      "C:\\Users\\parkh\\AppData\\Local\\Temp\\ipykernel_39240\\4032505207.py:14: RuntimeWarning: The unit for channel(s) ECG003, EOG001, EOG002, MISC001, MISC002, MISC003 has changed from V to NA.\n",
      "  raw_raw = read_raw_bids(bids_path=raw_path,  # reading the events from the original raw file\n"
     ]
    },
    {
     "name": "stdout",
     "output_type": "stream",
     "text": [
      "Used Annotations descriptions: ['ITI', 'block_start', 'cue_left', 'cue_right', 'left_resp_maybe', 'right_resp_maybe', 'target_onset', 'trial_end', 'trial_start']\n",
      "Opening raw data file C:\\Users\\parkh\\MEG Dropbox\\Hyojin Park\\FLUX\\derivatives\\Preprocessing\\sub-01\\ses-01\\meg\\sub-01_ses-01_task-SpAtt_run-02_ica.fif...\n"
     ]
    },
    {
     "name": "stderr",
     "output_type": "stream",
     "text": [
      "C:\\Users\\parkh\\AppData\\Local\\Temp\\ipykernel_39240\\4032505207.py:10: RuntimeWarning: This filename (C:\\Users\\parkh\\MEG Dropbox\\Hyojin Park\\FLUX\\derivatives\\Preprocessing\\sub-01\\ses-01\\meg\\sub-01_ses-01_task-SpAtt_run-02_ica.fif) does not conform to MNE naming conventions. All raw files should end with raw.fif, raw_sss.fif, raw_tsss.fif, _meg.fif, _eeg.fif, _ieeg.fif, raw.fif.gz, raw_sss.fif.gz, raw_tsss.fif.gz, _meg.fif.gz, _eeg.fif.gz or _ieeg.fif.gz\n",
      "  raw = read_raw_bids(bids_path=bids_path_preproc,\n"
     ]
    },
    {
     "name": "stdout",
     "output_type": "stream",
     "text": [
      "    Range : 1665000 ... 3098999 =   1665.000 ...  3098.999 secs\n",
      "Ready.\n",
      "Reading 0 ... 1433999  =      0.000 ...  1433.999 secs...\n",
      "Opening raw data file C:\\Users\\parkh\\MEG Dropbox\\Hyojin Park\\FLUX\\sub-01\\ses-01\\meg\\sub-01_ses-01_task-SpAtt_run-02_meg.fif...\n"
     ]
    },
    {
     "name": "stderr",
     "output_type": "stream",
     "text": [
      "C:\\Users\\parkh\\AppData\\Local\\Temp\\ipykernel_39240\\4032505207.py:10: RuntimeWarning: Did not find any events.tsv associated with sub-01_ses-01_task-SpAtt_run-02.\n",
      "\n",
      "The search_str was \"C:\\Users\\parkh\\MEG Dropbox\\Hyojin Park\\FLUX\\derivatives\\Preprocessing\\sub-01\\**\\meg\\sub-01_ses-01*events.tsv\"\n",
      "  raw = read_raw_bids(bids_path=bids_path_preproc,\n",
      "C:\\Users\\parkh\\AppData\\Local\\Temp\\ipykernel_39240\\4032505207.py:10: RuntimeWarning: Did not find any channels.tsv associated with sub-01_ses-01_task-SpAtt_run-02.\n",
      "\n",
      "The search_str was \"C:\\Users\\parkh\\MEG Dropbox\\Hyojin Park\\FLUX\\derivatives\\Preprocessing\\sub-01\\**\\meg\\sub-01_ses-01*channels.tsv\"\n",
      "  raw = read_raw_bids(bids_path=bids_path_preproc,\n",
      "C:\\Users\\parkh\\AppData\\Local\\Temp\\ipykernel_39240\\4032505207.py:10: RuntimeWarning: Did not find any meg.json associated with sub-01_ses-01_task-SpAtt_run-02.\n",
      "\n",
      "The search_str was \"C:\\Users\\parkh\\MEG Dropbox\\Hyojin Park\\FLUX\\derivatives\\Preprocessing\\sub-01\\**\\meg\\sub-01_ses-01*meg.json\"\n",
      "  raw = read_raw_bids(bids_path=bids_path_preproc,\n",
      "C:\\Users\\parkh\\AppData\\Local\\Temp\\ipykernel_39240\\4032505207.py:10: RuntimeWarning: participants.tsv file not found for C:\\Users\\parkh\\MEG Dropbox\\Hyojin Park\\FLUX\\derivatives\\Preprocessing\\sub-01\\ses-01\\meg\\sub-01_ses-01_task-SpAtt_run-02_ica.fif\n",
      "  raw = read_raw_bids(bids_path=bids_path_preproc,\n"
     ]
    },
    {
     "name": "stdout",
     "output_type": "stream",
     "text": [
      "    Read a total of 8 projection items:\n",
      "        generated with autossp-1.2.0 (1 x 306)  idle\n",
      "        generated with autossp-1.2.0 (1 x 306)  idle\n",
      "        generated with autossp-1.2.0 (1 x 306)  idle\n",
      "        generated with autossp-1.2.0 (1 x 306)  idle\n",
      "        generated with autossp-1.2.0 (1 x 306)  idle\n",
      "        generated with autossp-1.2.0 (1 x 306)  idle\n",
      "        generated with autossp-1.2.0 (1 x 306)  idle\n",
      "        generated with autossp-1.2.0 (1 x 306)  idle\n",
      "    Range : 1665000 ... 3098999 =   1665.000 ...  3098.999 secs\n",
      "Ready.\n",
      "Reading 0 ... 1433999  =      0.000 ...  1433.999 secs...\n",
      "Reading events from C:\\Users\\parkh\\MEG Dropbox\\Hyojin Park\\FLUX\\sub-01\\ses-01\\meg\\sub-01_ses-01_task-SpAtt_run-02_events.tsv.\n",
      "Reading channel info from C:\\Users\\parkh\\MEG Dropbox\\Hyojin Park\\FLUX\\sub-01\\ses-01\\meg\\sub-01_ses-01_task-SpAtt_run-02_channels.tsv.\n",
      "Dropping cHPI information stored in raw data, following specification in sidecar file\n",
      "Not fully anonymizing info - keeping his_id, sex, and hand info\n"
     ]
    },
    {
     "name": "stderr",
     "output_type": "stream",
     "text": [
      "C:\\Users\\parkh\\AppData\\Local\\Temp\\ipykernel_39240\\4032505207.py:14: RuntimeWarning: The unit for channel(s) ECG003, EOG001, EOG002, MISC001, MISC002, MISC003 has changed from V to NA.\n",
      "  raw_raw = read_raw_bids(bids_path=raw_path,  # reading the events from the original raw file\n"
     ]
    },
    {
     "name": "stdout",
     "output_type": "stream",
     "text": [
      "Used Annotations descriptions: ['ITI', 'block_start', 'cue_left', 'cue_right', 'left_resp_maybe', 'right_resp_maybe', 'target_onset', 'trial_end', 'trial_start']\n"
     ]
    }
   ],
   "source": [
    "raw_list = list()\n",
    "events_list = list()\n",
    "\n",
    "for subfile in range(1, 3):\n",
    "    if subfile == 2:\n",
    "        bids_path_preproc.update(run='02')\n",
    "        raw_path.update(run='02')\n",
    "       \n",
    "    # Read in the data from the Result path\n",
    "    raw = read_raw_bids(bids_path=bids_path_preproc, \n",
    "            extra_params={'preload':True},\n",
    "            verbose=True)\n",
    "\n",
    "    raw_raw = read_raw_bids(bids_path=raw_path,  # reading the events from the original raw file\n",
    "            extra_params={'preload':True},\n",
    "            verbose=True)\n",
    "\n",
    "    events, events_id = mne.events_from_annotations(raw_raw, event_id='auto')\n",
    "                    \n",
    "    raw_list.append(raw)\n",
    "    events_list.append(events)\n",
    "    \n",
    "# define event ids we are interested in\n",
    "events_picks_id = {k:v for k, v in events_id.items() if k.startswith('cue')}  # select only epochs you are interested in"
   ]
  },
  {
   "cell_type": "markdown",
   "metadata": {},
   "source": [
    "Now concatenate raw instances as if they were continuous - i.e combine over the 2 subfiles."
   ]
  },
  {
   "cell_type": "code",
   "execution_count": 8,
   "metadata": {},
   "outputs": [],
   "source": [
    "raw, events = mne.concatenate_raws(raw_list, events_list=events_list)\n",
    "del raw_list "
   ]
  },
  {
   "cell_type": "markdown",
   "metadata": {},
   "source": [
    "Set the peak-to-peak amplitude thresholds for trial rejection. These values may change depending on the quality of the data."
   ]
  },
  {
   "cell_type": "code",
   "execution_count": 9,
   "metadata": {},
   "outputs": [],
   "source": [
    "reject = dict(grad=5000e-13,    # T / m (gradiometers)\n",
    "              mag=5e-12,        # T (magnetometers)\n",
    "              #eeg=200e-6,       # V (EEG channels)\n",
    "              #eog=150e-6        # V (EOG channels)\n",
    "              )"
   ]
  },
  {
   "cell_type": "markdown",
   "metadata": {},
   "source": [
    "We will use time-windows of interest starting 2.5 s prior to the stimulus onset and ending 2 s after. Now perform the epoching using the events and events_id as well as the selected channels:"
   ]
  },
  {
   "cell_type": "code",
   "execution_count": 12,
   "metadata": {},
   "outputs": [
    {
     "name": "stdout",
     "output_type": "stream",
     "text": [
      "Not setting metadata\n",
      "312 matching events found\n",
      "No baseline correction applied\n",
      "0 projection items activated\n",
      "Using data from preloaded Raw for 312 events and 4501 original time points ...\n",
      "169 bad epochs dropped\n"
     ]
    },
    {
     "data": {
      "text/html": [
       "<table class=\"table table-hover table-striped table-sm table-responsive small\">\n",
       "    <tr>\n",
       "        <th>Number of events</th>\n",
       "        <td>143</td>\n",
       "    </tr>\n",
       "    <tr>\n",
       "        <th>Events</th>\n",
       "        \n",
       "        <td>cue_left: 69<br/>cue_right: 74</td>\n",
       "        \n",
       "    </tr>\n",
       "    <tr>\n",
       "        <th>Time range</th>\n",
       "        <td>-2.500 – 2.000 s</td>\n",
       "    </tr>\n",
       "    <tr>\n",
       "        <th>Baseline</th>\n",
       "        <td>off</td>\n",
       "    </tr>\n",
       "</table>"
      ],
      "text/plain": [
       "<Epochs |  143 events (all good), -2.5 – 2 s, baseline off, ~1.65 GB, data loaded,\n",
       " 'cue_left': 69\n",
       " 'cue_right': 74>"
      ]
     },
     "execution_count": 12,
     "metadata": {},
     "output_type": "execute_result"
    }
   ],
   "source": [
    "# Make epochs (4.5 seconds centered on stim onset)\n",
    "epochs = mne.Epochs(raw,\n",
    "            events, events_picks_id,\n",
    "            tmin=-2.5 , tmax=2,\n",
    "            baseline=None,\n",
    "            proj=True,\n",
    "            picks = 'all',\n",
    "            detrend = 1,\n",
    "            reject=reject,\n",
    "            reject_by_annotation=True,\n",
    "            preload=True,\n",
    "            verbose=True)\n",
    "\n",
    "# Show epochs details\n",
    "epochs"
   ]
  },
  {
   "cell_type": "markdown",
   "metadata": {},
   "source": [
    "By calling *epochs* we can check that the number of events is 305 of which 152 are left attention trials and 153 right attention trials. Moreover, we can see that no baseline correction was applied at this stage.\n",
    "\n",
    "Now we plot an overview of the rejected epochs:"
   ]
  },
  {
   "cell_type": "code",
   "execution_count": 13,
   "metadata": {},
   "outputs": [
    {
     "data": {
      "image/png": "[encoded data removed]",
      "text/plain": [
       "<Figure size 432x288 with 1 Axes>"
      ]
     },
     "metadata": {
      "needs_background": "light"
     },
     "output_type": "display_data"
    },
    {
     "data": {
      "image/png": "[encoded data removed]",
      "text/plain": [
       "<Figure size 432x288 with 1 Axes>"
      ]
     },
     "execution_count": 13,
     "metadata": {},
     "output_type": "execute_result"
    }
   ],
   "source": [
    "%matplotlib inline\n",
    "epochs.plot_drop_log()"
   ]
  },
  {
   "cell_type": "markdown",
   "metadata": {},
   "source": [
    "A few percent of the trials were rejected due to MEG artifacts in the magnetometers."
   ]
  },
  {
   "cell_type": "markdown",
   "metadata": {},
   "source": [
    "Now we save the epoched data in an FIF-file. Note this file will include trials from the 2 subfiles."
   ]
  },
  {
   "cell_type": "code",
   "execution_count": 14,
   "metadata": {},
   "outputs": [
    {
     "name": "stdout",
     "output_type": "stream",
     "text": [
      "Overwriting existing file.\n",
      "Overwriting existing file.\n"
     ]
    }
   ],
   "source": [
    "epochs.save(deriv_fname, overwrite=True)"
   ]
  },
  {
   "cell_type": "markdown",
   "metadata": {},
   "source": [
    "## Plotting the trials\n",
    "To show the trials for the left-condition for the MEG gradiometers write:"
   ]
  },
  {
   "cell_type": "code",
   "execution_count": 15,
   "metadata": {},
   "outputs": [
    {
     "name": "stdout",
     "output_type": "stream",
     "text": [
      "Using qt as 2D backend.\n"
     ]
    },
    {
     "name": "stderr",
     "output_type": "stream",
     "text": [
      "<frozen importlib._bootstrap>:241: FutureWarning: mne.io.pick.channel_indices_by_type is deprecated will be removed in 1.6, use documented public API instead. If no appropriate public API exists, please open an issue on GitHub.\n",
      "C:\\Users\\parkh\\Anaconda3\\envs\\mne\\lib\\site-packages\\mne_qt_browser\\_pg_figure.py:2550: FutureWarning: The current default of copy=False will change to copy=True in 1.7. Set the value of copy explicitly to avoid this warning\n",
      "  self.mne.inst.get_data(item=item), axis=-1)\n",
      "C:\\Users\\parkh\\Anaconda3\\envs\\mne\\lib\\site-packages\\mne_qt_browser\\_pg_figure.py:2550: FutureWarning: The current default of copy=False will change to copy=True in 1.7. Set the value of copy explicitly to avoid this warning\n",
      "  self.mne.inst.get_data(item=item), axis=-1)\n",
      "C:\\Users\\parkh\\Anaconda3\\envs\\mne\\lib\\site-packages\\mne_qt_browser\\_pg_figure.py:2550: FutureWarning: The current default of copy=False will change to copy=True in 1.7. Set the value of copy explicitly to avoid this warning\n",
      "  self.mne.inst.get_data(item=item), axis=-1)\n",
      "C:\\Users\\parkh\\Anaconda3\\envs\\mne\\lib\\site-packages\\mne_qt_browser\\_pg_figure.py:2550: FutureWarning: The current default of copy=False will change to copy=True in 1.7. Set the value of copy explicitly to avoid this warning\n",
      "  self.mne.inst.get_data(item=item), axis=-1)\n",
      "C:\\Users\\parkh\\Anaconda3\\envs\\mne\\lib\\site-packages\\mne_qt_browser\\_pg_figure.py:2550: FutureWarning: The current default of copy=False will change to copy=True in 1.7. Set the value of copy explicitly to avoid this warning\n",
      "  self.mne.inst.get_data(item=item), axis=-1)\n"
     ]
    },
    {
     "data": {
      "text/plain": [
       "<mne_qt_browser._pg_figure.MNEQtBrowser at 0x291b32296c0>"
      ]
     },
     "execution_count": 15,
     "metadata": {},
     "output_type": "execute_result"
    },
    {
     "name": "stderr",
     "output_type": "stream",
     "text": [
      "C:\\Users\\parkh\\Anaconda3\\envs\\mne\\lib\\site-packages\\mne_qt_browser\\_pg_figure.py:2550: FutureWarning: The current default of copy=False will change to copy=True in 1.7. Set the value of copy explicitly to avoid this warning\n",
      "  self.mne.inst.get_data(item=item), axis=-1)\n",
      "C:\\Users\\parkh\\Anaconda3\\envs\\mne\\lib\\site-packages\\mne_qt_browser\\_pg_figure.py:2550: FutureWarning: The current default of copy=False will change to copy=True in 1.7. Set the value of copy explicitly to avoid this warning\n",
      "  self.mne.inst.get_data(item=item), axis=-1)\n",
      "C:\\Users\\parkh\\Anaconda3\\envs\\mne\\lib\\site-packages\\mne_qt_browser\\_pg_figure.py:2550: FutureWarning: The current default of copy=False will change to copy=True in 1.7. Set the value of copy explicitly to avoid this warning\n",
      "  self.mne.inst.get_data(item=item), axis=-1)\n",
      "C:\\Users\\parkh\\Anaconda3\\envs\\mne\\lib\\site-packages\\mne_qt_browser\\_pg_figure.py:2550: FutureWarning: The current default of copy=False will change to copy=True in 1.7. Set the value of copy explicitly to avoid this warning\n",
      "  self.mne.inst.get_data(item=item), axis=-1)\n",
      "C:\\Users\\parkh\\Anaconda3\\envs\\mne\\lib\\site-packages\\mne_qt_browser\\_pg_figure.py:2550: FutureWarning: The current default of copy=False will change to copy=True in 1.7. Set the value of copy explicitly to avoid this warning\n",
      "  self.mne.inst.get_data(item=item), axis=-1)\n"
     ]
    }
   ],
   "source": [
    "%matplotlib inline\n",
    "epochs['cue_left'].plot(n_epochs=10, picks=['grad'])"
   ]
  },
  {
   "cell_type": "markdown",
   "metadata": {},
   "source": [
    "The plot above shows 10 trials of type left; only gradiometers shown.\n",
    "\n",
    "To show the trigger (stimulus channels) write:"
   ]
  },
  {
   "cell_type": "code",
   "execution_count": 12,
   "metadata": {},
   "outputs": [
    {
     "name": "stderr",
     "output_type": "stream",
     "text": [
      "C:\\Users\\parkh\\Anaconda3\\envs\\mne\\lib\\site-packages\\mne_qt_browser\\_pg_figure.py:2550: FutureWarning: The current default of copy=False will change to copy=True in 1.7. Set the value of copy explicitly to avoid this warning\n",
      "  self.mne.inst.get_data(item=item), axis=-1)\n",
      "C:\\Users\\parkh\\Anaconda3\\envs\\mne\\lib\\site-packages\\mne_qt_browser\\_pg_figure.py:2550: FutureWarning: The current default of copy=False will change to copy=True in 1.7. Set the value of copy explicitly to avoid this warning\n",
      "  self.mne.inst.get_data(item=item), axis=-1)\n",
      "C:\\Users\\parkh\\Anaconda3\\envs\\mne\\lib\\site-packages\\mne_qt_browser\\_pg_figure.py:2550: FutureWarning: The current default of copy=False will change to copy=True in 1.7. Set the value of copy explicitly to avoid this warning\n",
      "  self.mne.inst.get_data(item=item), axis=-1)\n",
      "C:\\Users\\parkh\\Anaconda3\\envs\\mne\\lib\\site-packages\\mne_qt_browser\\_pg_figure.py:2550: FutureWarning: The current default of copy=False will change to copy=True in 1.7. Set the value of copy explicitly to avoid this warning\n",
      "  self.mne.inst.get_data(item=item), axis=-1)\n",
      "C:\\Users\\parkh\\Anaconda3\\envs\\mne\\lib\\site-packages\\mne_qt_browser\\_pg_figure.py:2550: FutureWarning: The current default of copy=False will change to copy=True in 1.7. Set the value of copy explicitly to avoid this warning\n",
      "  self.mne.inst.get_data(item=item), axis=-1)\n",
      "C:\\Users\\parkh\\Anaconda3\\envs\\mne\\lib\\site-packages\\mne_qt_browser\\_pg_figure.py:2550: FutureWarning: The current default of copy=False will change to copy=True in 1.7. Set the value of copy explicitly to avoid this warning\n",
      "  self.mne.inst.get_data(item=item), axis=-1)\n",
      "C:\\Users\\parkh\\Anaconda3\\envs\\mne\\lib\\site-packages\\mne_qt_browser\\_pg_figure.py:2550: FutureWarning: The current default of copy=False will change to copy=True in 1.7. Set the value of copy explicitly to avoid this warning\n",
      "  self.mne.inst.get_data(item=item), axis=-1)\n"
     ]
    },
    {
     "data": {
      "text/plain": [
       "<mne_qt_browser._pg_figure.MNEQtBrowser at 0x2a04727cb80>"
      ]
     },
     "execution_count": 12,
     "metadata": {},
     "output_type": "execute_result"
    }
   ],
   "source": [
    "%matplotlib inline\n",
    "epochs['cue_left'].plot(n_epochs=1, picks=['stim'])"
   ]
  },
  {
   "cell_type": "markdown",
   "metadata": {},
   "source": [
    "An example of the trigger channels for one trial.\n",
    "\n",
    "Showing the trigger channels is often useful for verifying that correct trials have been selected. Note that STI001 to STI016 denote the individual trigger lines which are 'on' (1) or 'off' (0). The channel STI101 is a combination of the trigger lines ( STI101 = STI001 + 2 * STI002 + 4 * STI003 + 8 * STI004 + ...)\n",
    "\n",
    "To show all the trials belonging to *left* for a representative gradiometer (MEG2343) use the plot_image function. In the following example we also lowpass filter the indvidual trials at 30 Hz and shorten them (crop) to a -100 to 400 ms interval:"
   ]
  },
  {
   "cell_type": "code",
   "execution_count": 16,
   "metadata": {},
   "outputs": [
    {
     "name": "stdout",
     "output_type": "stream",
     "text": [
      "Setting up low-pass filter at 30 Hz\n",
      "\n",
      "FIR filter parameters\n",
      "---------------------\n",
      "Designing a one-pass, zero-phase, non-causal lowpass filter:\n",
      "- Windowed time-domain design (firwin) method\n",
      "- Hamming window with 0.0194 passband ripple and 53 dB stopband attenuation\n",
      "- Upper passband edge: 30.00 Hz\n",
      "- Upper transition bandwidth: 7.50 Hz (-6 dB cutoff frequency: 33.75 Hz)\n",
      "- Filter length: 441 samples (0.441 s)\n",
      "\n"
     ]
    },
    {
     "name": "stderr",
     "output_type": "stream",
     "text": [
      "[Parallel(n_jobs=1)]: Using backend SequentialBackend with 1 concurrent workers.\n",
      "[Parallel(n_jobs=1)]: Done   1 out of   1 | elapsed:    0.0s remaining:    0.0s\n",
      "[Parallel(n_jobs=1)]: Done   2 out of   2 | elapsed:    0.0s remaining:    0.0s\n",
      "[Parallel(n_jobs=1)]: Done   3 out of   3 | elapsed:    0.0s remaining:    0.0s\n",
      "[Parallel(n_jobs=1)]: Done   4 out of   4 | elapsed:    0.0s remaining:    0.0s\n",
      "[Parallel(n_jobs=1)]: Done 21114 out of 21114 | elapsed:    9.5s finished\n"
     ]
    },
    {
     "name": "stdout",
     "output_type": "stream",
     "text": [
      "Not setting metadata\n",
      "69 matching events found\n",
      "No baseline correction applied\n",
      "0 projection items activated\n"
     ]
    },
    {
     "data": {
      "image/png": "[encoded data removed]",
      "text/plain": [
       "<Figure size 432x288 with 4 Axes>"
      ]
     },
     "metadata": {
      "needs_background": "light"
     },
     "output_type": "display_data"
    },
    {
     "data": {
      "text/plain": [
       "[<Figure size 432x288 with 4 Axes>]"
      ]
     },
     "execution_count": 16,
     "metadata": {},
     "output_type": "execute_result"
    }
   ],
   "source": [
    "%matplotlib inline\n",
    "epochs['cue_left'].filter(0.0,30).crop(-0.1,0.4).plot_image(picks=['MEG2343'], vmin=-150, vmax=150)"
   ]
  },
  {
   "cell_type": "markdown",
   "metadata": {},
   "source": [
    "## Preregistration and publications\n",
    "\n",
    "Publication, example:\n",
    "\n",
    "\"The data were segmented into intervals of 4.5 s, ranging from 2.5 s prior to stimulus onset and 2 s after. To ensure that no artefacts were missed, trials in which the gradiometers values exceeded 5000 fT/cm or magnetometers exceeded 5000 fT were rejected as well as trials previously annotated with muscle artefacts.\"\n"
   ]
  }
 ],
 "metadata": {
  "kernelspec": {
   "display_name": "Python 3 (ipykernel)",
   "language": "python",
   "name": "python3"
  },
  "language_info": {
   "codemirror_mode": {
    "name": "ipython",
    "version": 3
   },
   "file_extension": ".py",
   "mimetype": "text/x-python",
   "name": "python",
   "nbconvert_exporter": "python",
   "pygments_lexer": "ipython3",
   "version": "3.10.5"
  },
  "vscode": {
   "interpreter": {
    "hash": "d4bb03f97efaa4a6e6bd96b6dbb810e96a21614e05e834deaba9f8f83d126801"
   }
  }
 },
 "nbformat": 4,
 "nbformat_minor": 4
}
