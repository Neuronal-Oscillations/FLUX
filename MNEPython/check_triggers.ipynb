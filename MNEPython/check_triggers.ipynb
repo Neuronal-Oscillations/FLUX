{
 "cells": [
  {
   "attachments": {},
   "cell_type": "markdown",
   "metadata": {},
   "source": [
    "This is a checklist to check if the experiment code has any bugs.\n",
    "    1. Read triggers from the MEG file\n",
    "        a. Is the order correct?\n",
    "        b. is the duration correct?\n",
    "            - plot a histogram of the duration of events using triggers.\n",
    "            - calculate mean, STD and the outlier durations of trigger durs.\n",
    "            - calculate RT and check if they make sense.\n",
    "        c. is the identity of triggers correct?   \n",
    "\n",
    "    2. if triggers are not sent correctly, detect them on the raw stim channel"
   ]
  },
  {
   "attachments": {},
   "cell_type": "markdown",
   "metadata": {},
   "source": [
    "Reads MEG data to checks triggers and raw data\n",
    "\n",
    "this code reads meg events for quality testing\n",
    "\n",
    "written by Tara Ghafari"
   ]
  },
  {
   "cell_type": "code",
   "execution_count": null,
   "metadata": {},
   "outputs": [],
   "source": [
    "import os.path as op\n",
    "import pandas as pd\n",
    "import matplotlib.pyplot as plt\n",
    "\n",
    "import mne\n",
    "from mne_bids import BIDSPath, read_raw_bids, events_from_annotations"
   ]
  },
  {
   "cell_type": "code",
   "execution_count": null,
   "metadata": {},
   "outputs": [],
   "source": [
    "# fill these out\n",
    "site = 'Birmingham'\n",
    "subject = '04'  # subject code in mTBI project\n",
    "session = '01'  # data collection session within each run\n",
    "run = '01'  # data collection run for each participant\n",
    "pilot = 'P' # is the data collected 'P'ilot or 'T'ask?\n",
    "task = 'SpAtt'\n",
    "meg_suffix = 'meg'\n",
    "meg_extension = '.fif'"
   ]
  },
  {
   "cell_type": "code",
   "execution_count": null,
   "metadata": {},
   "outputs": [],
   "source": [
    "# specify specific file names\n",
    "bids_root = r'Z:\\Projects\\mTBI predict\\Collected Data\\MNE-bids-data'  # RDS folder for bids formatted data\n",
    "bids_path = BIDSPath(subject=subject, session=session,\n",
    "                     task=task, run=run, root=bids_root, \n",
    "                     suffix=meg_suffix, extension=meg_extension)"
   ]
  },
  {
   "cell_type": "code",
   "execution_count": null,
   "metadata": {},
   "outputs": [],
   "source": [
    "# read and plot raw stim channel\n",
    "raw = read_raw_bids(bids_path=bids_path, verbose=False)"
   ]
  }
 ],
 "metadata": {
  "kernelspec": {
   "display_name": "flux",
   "language": "python",
   "name": "python3"
  },
  "language_info": {
   "name": "python",
   "version": "3.10.8 | packaged by conda-forge | (main, Nov 22 2022, 08:16:53) [MSC v.1929 64 bit (AMD64)]"
  },
  "orig_nbformat": 4,
  "vscode": {
   "interpreter": {
    "hash": "d4bb03f97efaa4a6e6bd96b6dbb810e96a21614e05e834deaba9f8f83d126801"
   }
  }
 },
 "nbformat": 4,
 "nbformat_minor": 2
}
