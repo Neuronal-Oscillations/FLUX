{
 "cells": [
  {
   "cell_type": "markdown",
   "metadata": {},
   "source": [
    "# Classification using a support vector machine\n",
    "\n",
    "Multi-variate pattern analysis (MVPA) is becoming increasing popular in human electrophysiological research (Cichy et al., 2014; Stokes et al, 2015;). This approach allows for identifying representational specific information associated with distributed patterns of electrophysiological activity. In this example we demonstrate how a support vector machine (SVM) can be applied to classify two classes of trials. \n",
    "\n",
    "## Preparation\n",
    "Import the relevant modules:"
   ]
  },
  {
   "cell_type": "code",
   "execution_count": 1,
   "metadata": {},
   "outputs": [],
   "source": [
    "import os.path as op\n",
    "import os\n",
    "import sys\n",
    "import matplotlib.pyplot as plt\n",
    "import numpy as np\n",
    "import mne\n",
    "from mne_bids import BIDSPath\n",
    "from mne.decoding import (SlidingEstimator, GeneralizingEstimator, Scaler,\n",
    "                          cross_val_multiscore, LinearModel, get_coef,\n",
    "                          Vectorizer, CSP)\n",
    "\n",
    "import sklearn.svm\n",
    "from sklearn.pipeline import make_pipeline\n",
    "from sklearn.preprocessing import StandardScaler\n",
    "from sklearn.linear_model import LogisticRegression"
   ]
  },
  {
   "cell_type": "markdown",
   "metadata": {},
   "source": [
    "The classification is  based on the tools in the Scikit-learn (#sklearn'#) package."
   ]
  },
  {
   "cell_type": "markdown",
   "metadata": {},
   "source": [
    "Set the local paths of the data:"
   ]
  },
  {
   "cell_type": "code",
   "execution_count": 2,
   "metadata": {},
   "outputs": [
    {
     "name": "stdout",
     "output_type": "stream",
     "text": [
      "sub-01_ses-01_task-SpAtt_run-12_epo.fif C:\\Users\\parkh\\MEG Dropbox\\Hyojin Park\\FLUX\\derivatives\\Analysis\\sub-01\\ses-01\\meg\\sub-01_ses-01_task-SpAtt_run-12_epo.fif\n"
     ]
    }
   ],
   "source": [
    "subject = '01'\n",
    "session = '01'\n",
    "task = 'SpAtt'  # name of the task\n",
    "run = '12'  # we have two runs for this subject, let's look at run = 1\n",
    "meg_suffix = 'meg'\n",
    "epo_suffix = 'epo'\n",
    "\n",
    "deriv_root = r'C:\\Users\\parkh\\MEG Dropbox\\Hyojin Park\\FLUX\\derivatives\\Analysis'\n",
    "bids_path = BIDSPath(subject=subject, session=session,\n",
    "            task=task, run=run, suffix=epo_suffix, datatype='meg',\n",
    "            root=deriv_root, extension='.fif', check=False)\n",
    "print(bids_path.basename,bids_path.fpath)"
   ]
  },
  {
   "cell_type": "markdown",
   "metadata": {},
   "source": [
    "## Reading and preparing the trial based data\n",
    "Read the epochs:"
   ]
  },
  {
   "cell_type": "code",
   "execution_count": 3,
   "metadata": {
    "scrolled": true
   },
   "outputs": [
    {
     "name": "stdout",
     "output_type": "stream",
     "text": [
      "Reading C:\\Users\\parkh\\MEG Dropbox\\Hyojin Park\\FLUX\\derivatives\\Analysis\\sub-01\\ses-01\\meg\\sub-01_ses-01_task-SpAtt_run-12_epo.fif ...\n",
      "    Found the data of interest:\n",
      "        t =   -2500.00 ...    2000.00 ms\n",
      "        0 CTF compensation matrices available\n",
      "0 bad epochs dropped\n",
      "Not setting metadata\n",
      "143 matching events found\n",
      "No baseline correction applied\n",
      "0 projection items activated\n"
     ]
    }
   ],
   
   "source": [
    "epochs = mne.read_epochs(bids_path.fpath,\n",
    "                         preload=True,\n",
    "                         verbose=True).pick(['meg'])"
    "Here in the current version of MNE SSP filter will be applied again (any mne.read_epochs)"
   ]
  },
  {
   "cell_type": "markdown",
   "metadata": {},
   "source": [
    "Now filter the data. In this case we lowpass the data at 10 Hz. This is done before cutting the trials in shorter segments in order to reduce edge effects from the filtering. The filter also serves to perform temporal smoothing of the data which will benefit the classification. "
   ]
  },
  {
   "cell_type": "code",
   "execution_count": 4,
   "metadata": {
    "scrolled": true
   },
   "outputs": [
    {
     "name": "stdout",
     "output_type": "stream",
     "text": [
      "Setting up low-pass filter at 10 Hz\n",
      "\n",
      "FIR filter parameters\n",
      "---------------------\n",
      "Designing a one-pass, zero-phase, non-causal lowpass filter:\n",
      "- Windowed time-domain design (firwin) method\n",
      "- Hamming window with 0.0194 passband ripple and 53 dB stopband attenuation\n",
      "- Upper passband edge: 10.00 Hz\n",
      "- Upper transition bandwidth: 2.50 Hz (-6 dB cutoff frequency: 11.25 Hz)\n",
      "- Filter length: 1321 samples (1.321 sec)\n",
      "\n"
     ]
    }
   ],
   "source": [
    "epochs_rs = epochs.copy().filter(0,10)"
   ]
  },
  {
   "cell_type": "markdown",
   "metadata": {},
   "source": [
    "Down-sample the data to 100 Hz in order to reduce the compuatation time. Then set the time-window of interest to -0.1 to 0.5 s around the target onset. "
   ]
  },
  {
   "cell_type": "code",
   "execution_count": 5,
   "metadata": {},
   "outputs": [
    {
     "data": {
      "text/html": [
       "<table class=\"table table-hover table-striped table-sm table-responsive small\">\n",
       "    <tr>\n",
       "        <th>Number of events</th>\n",
       "        <td>143</td>\n",
       "    </tr>\n",
       "    <tr>\n",
       "        <th>Events</th>\n",
       "        \n",
       "        <td>cue_left: 69<br/>cue_right: 74</td>\n",
       "        \n",
       "    </tr>\n",
       "    <tr>\n",
       "        <th>Time range</th>\n",
       "        <td>-0.100 – 0.500 sec</td>\n",
       "    </tr>\n",
       "    <tr>\n",
       "        <th>Baseline</th>\n",
       "        <td>off</td>\n",
       "    </tr>\n",
       "</table>"
      ],
      "text/plain": [
       "<EpochsFIF |  143 events (all good), -0.1 - 0.5 sec, baseline off, ~20.9 MB, data loaded,\n",
       " 'cue_left': 69\n",
       " 'cue_right': 74>"
      ]
     },
     "execution_count": 5,
     "metadata": {},
     "output_type": "execute_result"
    }
   ],
   "source": [
    "epochs_rs.resample(100)\n",
    "epochs_rs.crop(tmin=-0.1, tmax=0.5)"
   ]
  },
  {
   "cell_type": "markdown",
   "metadata": {},
   "source": [
    "## Setting up the classifier\n",
    "The SVM is implemented in the *scikit-learn* package and the corresponding application programming interface (API) must be applied. \n",
    "The matrix $X$ (features) is a three-dimensional matrix (trials  x channel x time points):\n"
   ]
  },
  {
   "cell_type": "code",
   "execution_count": 6,
   "metadata": {},
   "outputs": [
    {
     "data": {
      "text/plain": [
       "(143, 306, 61)"
      ]
     },
     "execution_count": 6,
     "metadata": {},
     "output_type": "execute_result"
    }
   ],
   "source": [
    "X = epochs_rs.get_data(picks='meg') \n",
    "X.shape"
   ]
  },
  {
   "cell_type": "markdown",
   "metadata": {},
   "source": [
    "In this case we have 256 trials and 61 times points. "
   ]
  },
  {
   "cell_type": "markdown",
   "metadata": {},
   "source": [
    "The vector $y$ (also termet targets) contains 256 values indicating attention left or right trials. The trial codes (respectively 21 and 22) needs to be coverted to the values 1 and 2:"
   ]
  },
  {
   "cell_type": "code",
   "execution_count": 7,
   "metadata": {},
   "outputs": [
    {
     "name": "stdout",
     "output_type": "stream",
     "text": [
      "[3 3 4 4 4 4 3 3 4 4 4 4 4 4 3 3 3 3 4 3 4 3 3 4 3 4 3 4 4 3 4 4 4 3 3 4 4\n",
      " 4 3 4 4 3 4 3 4 4 4 3 3 3 4 3 4 4 3 4 3 3 4 4 3 4 3 4 3 3 3 4 3 3 3 3 3 4\n",
      " 3 4 4 4 4 3 3 4 3 4 3 4 3 4 3 4 3 4 4 3 4 4 3 4 4 3 3 4 3 4 3 4 3 4 4 4 3\n",
      " 4 4 3 3 4 3 3 3 3 4 4 4 4 3 3 3 4 3 4 3 3 4 4 3 4 4 3 3 4 4 3 3]\n"
     ]
    }
   ],
   "source": [
    "temp = epochs.events[:, 2]\n",
    "temp[epochs.events[:,2] == 21] = 1\n",
    "temp[epochs.events[:,2] == 22] = 2\n",
    "y = temp\n",
    "print(y)"
   ]
  },
  {
   "cell_type": "markdown",
   "metadata": {},
   "source": [
    "The function *make_pipeline* is from *scikit-learn*. It defines the transforms used with the estimator. The *Vectorizer()* transforms X into a 2D array (samples by features).\n",
    "The *StandardScaler()* standardize the data by removing the mean and scaling to unit variance."
   ]
  },
  {
   "cell_type": "code",
   "execution_count": 8,
   "metadata": {},
   "outputs": [],
   "source": [
    "clf = make_pipeline(Vectorizer(),StandardScaler(),  \n",
    "                   LinearModel(sklearn.svm.SVC(kernel = 'linear')))                          "
   ]
  },
  {
   "cell_type": "markdown",
   "metadata": {},
   "source": [
    "Finally the estimator must be defined. We here apply the *SlidingEstimator* that uses the features $X$ and targets $y$ as input as well as *clf* defining the pipeline. The aim is to discriminate the experimental conditions as functions of time; i.e. at which time points can we tell left from right attention?"
   ]
  },
  {
   "cell_type": "code",
   "execution_count": 9,
   "metadata": {},
   "outputs": [],
   "source": [
    "time_decod = SlidingEstimator(clf, n_jobs=-1, scoring='roc_auc', verbose=True)"
   ]
  },
  {
   "cell_type": "markdown",
   "metadata": {},
   "source": [
    "## Performing the classification ##\n",
    "The classification will be performed timepoint by timepoint using a SVM by training on 80% of the trials on test on 20% in 5 runs. This  results in a 5-fold cross-validation (*cv=5*). The output will be reported as Area Under the Curve (AUC). "
   ]
  },
  {
   "cell_type": "code",
   "execution_count": 10,
   "metadata": {},
   "outputs": [
    {
     "name": "stderr",
     "output_type": "stream",
     "text": [
      "[Parallel(n_jobs=12)]: Using backend LokyBackend with 12 concurrent workers.\n",
      "[Parallel(n_jobs=12)]: Done   2 out of   5 | elapsed:    8.6s remaining:   13.0s\n",
      "[Parallel(n_jobs=12)]: Done   5 out of   5 | elapsed:    9.2s finished\n"
     ]
    }
   ],
   "source": [
    "scores = cross_val_multiscore(time_decod, X, y, cv=5, n_jobs=-1)"
   ]
  },
  {
   "cell_type": "markdown",
   "metadata": {},
   "source": [
    "## Plotting the results\n",
    "In order to plot the results, average over scores and plot:"
   ]
  },
  {
   "cell_type": "code",
   "execution_count": 11,
   "metadata": {},
   "outputs": [],
   "source": [
    "scores = np.mean(scores, axis=0)"
   ]
  },
  {
   "cell_type": "code",
   "execution_count": 12,
   "metadata": {},
   "outputs": [
    {
     "data": {
      "text/plain": [
       "Text(0.5, 1.0, 'Sensor space decoding')"
      ]
     },
     "execution_count": 12,
     "metadata": {},
     "output_type": "execute_result"
    },
    {
     "data": {
      "image/png": "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\n",
      "text/plain": [
       "<Figure size 432x288 with 1 Axes>"
      ]
     },
     "metadata": {
      "needs_background": "light"
     },
     "output_type": "display_data"
    }
   ],
   "source": [
    "fig, ax = plt.subplots()\n",
    "plt.ylim([0.35, 0.65])\n",
    "ax.plot(epochs_rs.times, scores, label='score')\n",
    "ax.axhline(.5, color='k', linestyle='--', label='chance')\n",
    "ax.set_xlabel('Times')\n",
    "ax.set_ylabel('AUC')  # Area Under the Curve\n",
    "ax.legend()\n",
    "ax.axvline(.0, color='k', linestyle='-')\n",
    "ax.set_title('Sensor space decoding')"
   ]
  },
  {
   "cell_type": "markdown",
   "metadata": {},
   "source": [
    "The plots show the accuracy (AUC) of the classification as a function of time. The best classiciation is obtained ~200 ms after the target onset and is about 0.64. \n"
   ]
  },
  {
   "cell_type": "markdown",
   "metadata": {},
   "source": [
    "## Preregistration and publications\n",
    "\n",
    "Publication, example:\n",
    "\n",
    "\"A multi-variate pattern analysis was applied to the MEG data to classify whether the participants attended left or right. The data were lowpass filtered at 10 Hz and then downsampled to 100 Hz. The time-points in the interval -0.1 to 0.5 s around the target onset was considered. The data were standardized by removing the mean and scaling to unit variance per sensor. A support vector machine (Cortes abd Vapnik, 1995) from Scikit-learn (https://scikit-learn.org/) was applied to classify the data as a function of time. A 5-fold cross-validation procedure was used and the classificaiton rate was reported as Area Under the Curve\""
   ]
  },
  {
   "cell_type": "markdown",
   "metadata": {},
   "source": [
    "## References \n",
    "\n",
    "* Cichy RM, Pantazis D, Oliva A.(2014) Resolving human object recognition in space and time. Nat Neurosci. 17(3):455-62. doi: 10.1038/nn.3635\n",
    "* Cortes, C, Vapnik, V (1995) Support-vector networks. Mach Learn 20, 273–297 \n",
    "* Stokes MG, Wolff MJ, Spaak E. (2015) Decoding Rich Spatial Information with High Temporal Resolution. Trends Cogn Sci. 19(11):636-638. doi: 10.1016/j.tics.2015.08.016\n",
    "\n"
   ]
  }
 ],
 "metadata": {
  "kernelspec": {
   "display_name": "Python 3 (ipykernel)",
   "language": "python",
   "name": "python3"
  },
  "language_info": {
   "codemirror_mode": {
    "name": "ipython",
    "version": 3
   },
   "file_extension": ".py",
   "mimetype": "text/x-python",
   "name": "python",
   "nbconvert_exporter": "python",
   "pygments_lexer": "ipython3",
   "version": "3.10.5"
  },
  "vscode": {
   "interpreter": {
    "hash": "d4bb03f97efaa4a6e6bd96b6dbb810e96a21614e05e834deaba9f8f83d126801"
   }
  }
 },
 "nbformat": 4,
 "nbformat_minor": 4
}
