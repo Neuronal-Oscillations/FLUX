{
 "cells": [
  {
   "cell_type": "markdown",
   "metadata": {},
   "source": [
    "# Classification using a support vector machine\n",
    "\n",
    "Multi-variate pattern analysis (MVPA) is becoming increasing popular in human electrophysiological research (Cichy et al., 2014; Stokes et al, 2015;). This approach allows for identifying representational specific information associated with distributed patterns of electrophysiological activity. In this example we demonstrate how a support vector machine (SVM) can be applied to classify two classes of trials. \n",
    "\n",
    "## Preparation\n",
    "Import the relevant modules:"
   ]
  },
  {
   "cell_type": "code",
   "execution_count": 1,
   "metadata": {},
   "outputs": [],
   "source": [
    "import os.path as op\n",
    "import os\n",
    "import sys\n",
    "import matplotlib.pyplot as plt\n",
    "import numpy as np\n",
    "import mne\n",
    "from mne_bids import BIDSPath\n",
    "from mne.decoding import (SlidingEstimator, GeneralizingEstimator, Scaler,\n",
    "                          cross_val_multiscore, LinearModel, get_coef,\n",
    "                          Vectorizer, CSP)\n",
    "\n",
    "import sklearn.svm\n",
    "from sklearn.pipeline import make_pipeline\n",
    "from sklearn.preprocessing import StandardScaler\n",
    "from sklearn.linear_model import LogisticRegression"
   ]
  },
  {
   "cell_type": "markdown",
   "metadata": {},
   "source": [
    "The classification is  based on the tools in the Scikit-learn (#sklearn'#) package."
   ]
  },
  {
   "cell_type": "markdown",
   "metadata": {},
   "source": [
    "Set the local paths of the data:"
   ]
  },
  {
   "cell_type": "code",
   "execution_count": 2,
   "metadata": {},
   "outputs": [
    {
     "name": "stdout",
     "output_type": "stream",
     "text": [
      "sub-01_ses-01_task-SpAtt_run-12_epo.fif C:\\Users\\parkh\\MEG Dropbox\\Hyojin Park\\FLUX\\derivatives\\Analysis\\sub-01\\ses-01\\meg\\sub-01_ses-01_task-SpAtt_run-12_epo.fif\n"
     ]
    }
   ],
   "source": [
    "subject = '01'\n",
    "session = '01'\n",
    "task = 'SpAtt'  # name of the task\n",
    "run = '12'  # we have two runs for this subject, let's look at run = 1\n",
    "meg_suffix = 'meg'\n",
    "epo_suffix = 'epo'\n",
    "\n",
    "deriv_root = r'C:\\Users\\parkh\\MEG Dropbox\\Hyojin Park\\FLUX\\derivatives\\Analysis'\n",
    "bids_path = BIDSPath(subject=subject, session=session,\n",
    "            task=task, run=run, suffix=epo_suffix, datatype='meg',\n",
    "            root=deriv_root, extension='.fif', check=False)\n",
    "print(bids_path.basename,bids_path.fpath)"
   ]
  },
  {
   "cell_type": "markdown",
   "metadata": {},
   "source": [
    "## Reading and preparing the trial based data\n",
    "Read the epochs:"
   ]
  },
  {
   "cell_type": "code",
   "execution_count": 3,
   "metadata": {
    "scrolled": true
   },
   "outputs": [
    {
     "name": "stdout",
     "output_type": "stream",
     "text": [
      "Reading C:\\Users\\parkh\\MEG Dropbox\\Hyojin Park\\FLUX\\derivatives\\Analysis\\sub-01\\ses-01\\meg\\sub-01_ses-01_task-SpAtt_run-12_epo.fif ...\n",
      "    Found the data of interest:\n",
      "        t =   -2500.00 ...    2000.00 ms\n",
      "        0 CTF compensation matrices available\n",
      "Not setting metadata\n",
      "143 matching events found\n",
      "No baseline correction applied\n",
      "0 projection items activated\n"
     ]
    }
   ],
   "source": [
    "epochs = mne.read_epochs(bids_path.fpath,\n",
    "                         preload=True,\n",
    "                         verbose=True).pick(['meg'])"
   ]
  },
  {
   "cell_type": "markdown",
   "metadata": {},
   "source": [
    "Now filter the data. In this case we lowpass the data at 10 Hz. This is done before cutting the trials in shorter segments in order to reduce edge effects from the filtering. The filter also serves to perform temporal smoothing of the data which will benefit the classification. "
   ]
  },
  {
   "cell_type": "code",
   "execution_count": 4,
   "metadata": {
    "scrolled": true
   },
   "outputs": [
    {
     "name": "stdout",
     "output_type": "stream",
     "text": [
      "Setting up low-pass filter at 10 Hz\n",
      "\n",
      "FIR filter parameters\n",
      "---------------------\n",
      "Designing a one-pass, zero-phase, non-causal lowpass filter:\n",
      "- Windowed time-domain design (firwin) method\n",
      "- Hamming window with 0.0194 passband ripple and 53 dB stopband attenuation\n",
      "- Upper passband edge: 10.00 Hz\n",
      "- Upper transition bandwidth: 2.50 Hz (-6 dB cutoff frequency: 11.25 Hz)\n",
      "- Filter length: 1321 samples (1.321 s)\n",
      "\n"
     ]
    },
    {
     "name": "stderr",
     "output_type": "stream",
     "text": [
      "[Parallel(n_jobs=1)]: Using backend SequentialBackend with 1 concurrent workers.\n",
      "[Parallel(n_jobs=1)]: Done   1 out of   1 | elapsed:    0.0s remaining:    0.0s\n",
      "[Parallel(n_jobs=1)]: Done   2 out of   2 | elapsed:    0.0s remaining:    0.0s\n",
      "[Parallel(n_jobs=1)]: Done   3 out of   3 | elapsed:    0.0s remaining:    0.0s\n",
      "[Parallel(n_jobs=1)]: Done   4 out of   4 | elapsed:    0.0s remaining:    0.0s\n",
      "[Parallel(n_jobs=1)]: Done 43758 out of 43758 | elapsed:   21.7s finished\n"
     ]
    }
   ],
   "source": [
    "epochs_rs = epochs.copy().filter(0,10)"
   ]
  },
  {
   "cell_type": "markdown",
   "metadata": {},
   "source": [
    "Down-sample the data to 100 Hz in order to reduce the compuatation time. Then set the time-window of interest to -0.1 to 0.5 s around the target onset. "
   ]
  },
  {
   "cell_type": "code",
   "execution_count": 5,
   "metadata": {},
   "outputs": [
    {
     "data": {
      "text/html": [
       "<table class=\"table table-hover table-striped table-sm table-responsive small\">\n",
       "    <tr>\n",
       "        <th>Number of events</th>\n",
       "        <td>143</td>\n",
       "    </tr>\n",
       "    <tr>\n",
       "        <th>Events</th>\n",
       "        \n",
       "        <td>cue_left: 69<br/>cue_right: 74</td>\n",
       "        \n",
       "    </tr>\n",
       "    <tr>\n",
       "        <th>Time range</th>\n",
       "        <td>-0.100 – 0.500 s</td>\n",
       "    </tr>\n",
       "    <tr>\n",
       "        <th>Baseline</th>\n",
       "        <td>off</td>\n",
       "    </tr>\n",
       "</table>"
      ],
      "text/plain": [
       "<EpochsFIF |  143 events (all good), -0.1 – 0.5 s, baseline off, ~20.9 MB, data loaded,\n",
       " 'cue_left': 69\n",
       " 'cue_right': 74>"
      ]
     },
     "execution_count": 5,
     "metadata": {},
     "output_type": "execute_result"
    }
   ],
   "source": [
    "epochs_rs.resample(100)\n",
    "epochs_rs.crop(tmin=-0.1, tmax=0.5)"
   ]
  },
  {
   "cell_type": "markdown",
   "metadata": {},
   "source": [
    "## Setting up the classifier\n",
    "The SVM is implemented in the *scikit-learn* package and the corresponding application programming interface (API) must be applied. \n",
    "The matrix $X$ (features) is a three-dimensional matrix (trials  x channel x time points):\n"
   ]
  },
  {
   "cell_type": "code",
   "execution_count": 6,
   "metadata": {},
   "outputs": [
    {
     "data": {
      "text/plain": [
       "(143, 306, 61)"
      ]
     },
     "execution_count": 6,
     "metadata": {},
     "output_type": "execute_result"
    }
   ],
   "source": [
    "X = epochs_rs.get_data(picks='meg') \n",
    "X.shape"
   ]
  },
  {
   "cell_type": "markdown",
   "metadata": {},
   "source": [
    "In this case we have 256 trials and 61 times points. "
   ]
  },
  {
   "cell_type": "markdown",
   "metadata": {},
   "source": [
    "The vector $y$ (also termet targets) contains 256 values indicating attention left or right trials. The trial codes (respectively 21 and 22) needs to be coverted to the values 1 and 2:"
   ]
  },
  {
   "cell_type": "code",
   "execution_count": 8,
   "metadata": {
    "collapsed": true,
    "jupyter": {
     "outputs_hidden": true
    },
    "tags": []
   },
   "outputs": [
    {
     "data": {
      "text/plain": [
       "array([[3118478,       0,       3],\n",
       "       [3125642,       0,       3],\n",
       "       [3132890,       0,       4],\n",
       "       [3139721,       0,       4],\n",
       "       [3146810,       0,       4],\n",
       "       [3162849,       0,       4],\n",
       "       [3170197,       0,       3],\n",
       "       [3179137,       0,       3],\n",
       "       [3195401,       0,       4],\n",
       "       [3203900,       0,       4],\n",
       "       [3210881,       0,       4],\n",
       "       [3217687,       0,       4],\n",
       "       [3242449,       0,       4],\n",
       "       [3251549,       0,       4],\n",
       "       [3258655,       0,       3],\n",
       "       [3267420,       0,       3],\n",
       "       [3274568,       0,       3],\n",
       "       [3281682,       0,       3],\n",
       "       [3299564,       0,       4],\n",
       "       [3306687,       0,       3],\n",
       "       [3313751,       0,       4],\n",
       "       [3321583,       0,       3],\n",
       "       [3330840,       0,       3],\n",
       "       [3338689,       0,       4],\n",
       "       [3347463,       0,       3],\n",
       "       [3354577,       0,       4],\n",
       "       [3363226,       0,       3],\n",
       "       [3372242,       0,       4],\n",
       "       [3380132,       0,       4],\n",
       "       [3387263,       0,       3],\n",
       "       [3395946,       0,       4],\n",
       "       [3403243,       0,       4],\n",
       "       [3412501,       0,       4],\n",
       "       [3428665,       0,       3],\n",
       "       [3436480,       0,       3],\n",
       "       [3445554,       0,       4],\n",
       "       [3460216,       0,       4],\n",
       "       [3467714,       0,       4],\n",
       "       [3474662,       0,       3],\n",
       "       [3482377,       0,       4],\n",
       "       [3489975,       0,       4],\n",
       "       [3506597,       0,       3],\n",
       "       [3513361,       0,       4],\n",
       "       [3528032,       0,       3],\n",
       "       [3537290,       0,       4],\n",
       "       [3544004,       0,       4],\n",
       "       [3551694,       0,       4],\n",
       "       [3560468,       0,       3],\n",
       "       [3568224,       0,       3],\n",
       "       [3577015,       0,       3],\n",
       "       [3584588,       0,       4],\n",
       "       [3592370,       0,       3],\n",
       "       [3607299,       0,       4],\n",
       "       [3616557,       0,       4],\n",
       "       [3624355,       0,       3],\n",
       "       [3632078,       0,       4],\n",
       "       [3646841,       0,       3],\n",
       "       [3655556,       0,       3],\n",
       "       [3670244,       0,       4],\n",
       "       [3677550,       0,       4],\n",
       "       [3686499,       0,       3],\n",
       "       [3693989,       0,       4],\n",
       "       [3701754,       0,       3],\n",
       "       [3719427,       0,       4],\n",
       "       [3727709,       0,       3],\n",
       "       [3735098,       0,       3],\n",
       "       [3743914,       0,       3],\n",
       "       [3759444,       0,       4],\n",
       "       [3767392,       0,       3],\n",
       "       [3775341,       0,       3],\n",
       "       [3793164,       0,       3],\n",
       "       [3802013,       0,       3],\n",
       "       [3810053,       0,       3],\n",
       "       [3818335,       0,       4],\n",
       "       [3826492,       0,       3],\n",
       "       [3833773,       0,       4],\n",
       "       [3851864,       0,       4],\n",
       "       [3860446,       0,       4],\n",
       "       [3867961,       0,       4],\n",
       "       [3876009,       0,       3],\n",
       "       [3891097,       0,       3],\n",
       "       [3898870,       0,       4],\n",
       "       [3907285,       0,       3],\n",
       "       [3915284,       0,       4],\n",
       "       [3923774,       0,       3],\n",
       "       [3941239,       0,       4],\n",
       "       [3948120,       0,       3],\n",
       "       [3957378,       0,       4],\n",
       "       [3965159,       0,       3],\n",
       "       [3974301,       0,       4],\n",
       "       [3998896,       0,       3],\n",
       "       [4005619,       0,       4],\n",
       "       [4023217,       0,       4],\n",
       "       [4032291,       0,       3],\n",
       "       [4040782,       0,       4],\n",
       "       [4048730,       0,       4],\n",
       "       [4057220,       0,       3],\n",
       "       [4070899,       0,       4],\n",
       "       [4079214,       0,       4],\n",
       "       [4088472,       0,       3],\n",
       "       [4112475,       0,       3],\n",
       "       [4128831,       0,       4],\n",
       "       [4137004,       0,       3],\n",
       "       [4145153,       0,       4],\n",
       "       [4161458,       0,       3],\n",
       "       [4168289,       0,       4],\n",
       "       [4177013,       0,       3],\n",
       "       [4192985,       0,       4],\n",
       "       [4200633,       0,       4],\n",
       "       [4208181,       0,       4],\n",
       "       [4222735,       0,       3],\n",
       "       [4231084,       0,       4],\n",
       "       [4240342,       0,       4],\n",
       "       [4248524,       0,       3],\n",
       "       [4256238,       0,       3],\n",
       "       [4273303,       0,       4],\n",
       "       [4281034,       0,       3],\n",
       "       [4290292,       0,       3],\n",
       "       [4307156,       0,       3],\n",
       "       [4315880,       0,       3],\n",
       "       [4330167,       0,       4],\n",
       "       [4337590,       0,       4],\n",
       "       [4353145,       0,       4],\n",
       "       [4360134,       0,       4],\n",
       "       [4366882,       0,       3],\n",
       "       [4373746,       0,       3],\n",
       "       [4382328,       0,       3],\n",
       "       [4389034,       0,       4],\n",
       "       [4395940,       0,       3],\n",
       "       [4404956,       0,       4],\n",
       "       [4413997,       0,       3],\n",
       "       [4421011,       0,       3],\n",
       "       [4428117,       0,       4],\n",
       "       [4437375,       0,       4],\n",
       "       [4444622,       0,       3],\n",
       "       [4453880,       0,       4],\n",
       "       [4467700,       0,       4],\n",
       "       [4476291,       0,       3],\n",
       "       [4484940,       0,       3],\n",
       "       [4492388,       0,       4],\n",
       "       [4501153,       0,       4],\n",
       "       [4515457,       0,       3],\n",
       "       [4524231,       0,       3]])"
      ]
     },
     "execution_count": 8,
     "metadata": {},
     "output_type": "execute_result"
    }
   ],
   "source": [
    "epochs.events"
   ]
  },
  {
   "cell_type": "code",
   "execution_count": 7,
   "metadata": {},
   "outputs": [
    {
     "name": "stdout",
     "output_type": "stream",
     "text": [
      "[3 3 4 4 4 4 3 3 4 4 4 4 4 4 3 3 3 3 4 3 4 3 3 4 3 4 3 4 4 3 4 4 4 3 3 4 4\n",
      " 4 3 4 4 3 4 3 4 4 4 3 3 3 4 3 4 4 3 4 3 3 4 4 3 4 3 4 3 3 3 4 3 3 3 3 3 4\n",
      " 3 4 4 4 4 3 3 4 3 4 3 4 3 4 3 4 3 4 4 3 4 4 3 4 4 3 3 4 3 4 3 4 3 4 4 4 3\n",
      " 4 4 3 3 4 3 3 3 3 4 4 4 4 3 3 3 4 3 4 3 3 4 4 3 4 4 3 3 4 4 3 3]\n"
     ]
    }
   ],
   "source": [
    "temp = epochs.events[:, 2]\n",
    "temp[epochs.events[:,2] == 21] = 1\n",
    "temp[epochs.events[:,2] == 22] = 2\n",
    "y = temp\n",
    "print(y)"
   ]
  },
  {
   "cell_type": "markdown",
   "metadata": {},
   "source": [
    "The function *make_pipeline* is from *scikit-learn*. It defines the transforms used with the estimator. The *Vectorizer()* transforms X into a 2D array (samples by features).\n",
    "The *StandardScaler()* standardize the data by removing the mean and scaling to unit variance."
   ]
  },
  {
   "cell_type": "code",
   "execution_count": 9,
   "metadata": {},
   "outputs": [],
   "source": [
    "clf = make_pipeline(Vectorizer(),StandardScaler(),  \n",
    "                   LinearModel(sklearn.svm.SVC(kernel = 'linear')))                          "
   ]
  },
  {
   "cell_type": "markdown",
   "metadata": {},
   "source": [
    "Finally the estimator must be defined. We here apply the *SlidingEstimator* that uses the features $X$ and targets $y$ as input as well as *clf* defining the pipeline. The aim is to discriminate the experimental conditions as functions of time; i.e. at which time points can we tell left from right attention?"
   ]
  },
  {
   "cell_type": "code",
   "execution_count": 10,
   "metadata": {},
   "outputs": [],
   "source": [
    "time_decod = SlidingEstimator(clf, n_jobs=-1, scoring='roc_auc', verbose=True)"
   ]
  },
  {
   "cell_type": "markdown",
   "metadata": {},
   "source": [
    "## Performing the classification ##\n",
    "The classification will be performed timepoint by timepoint using a SVM by training on 80% of the trials on test on 20% in 5 runs. This  results in a 5-fold cross-validation (*cv=5*). The output will be reported as Area Under the Curve (AUC). "
   ]
  },
  {
   "cell_type": "code",
   "execution_count": 11,
   "metadata": {},
   "outputs": [
    {
     "name": "stderr",
     "output_type": "stream",
     "text": [
      "[Parallel(n_jobs=-1)]: Using backend LokyBackend with 12 concurrent workers.\n",
      "[Parallel(n_jobs=-1)]: Done   2 out of   5 | elapsed:    6.1s remaining:    9.2s\n",
      "[Parallel(n_jobs=-1)]: Done   5 out of   5 | elapsed:    6.3s finished\n"
     ]
    }
   ],
   "source": [
    "scores = cross_val_multiscore(time_decod, X, y, cv=5, n_jobs=-1)"
   ]
  },
  {
   "cell_type": "markdown",
   "metadata": {},
   "source": [
    "## Plotting the results\n",
    "In order to plot the results, average over scores and plot:"
   ]
  },
  {
   "cell_type": "code",
   "execution_count": 12,
   "metadata": {},
   "outputs": [],
   "source": [
    "scores = np.mean(scores, axis=0)"
   ]
  },
  {
   "cell_type": "code",
   "execution_count": 13,
   "metadata": {},
   "outputs": [
    {
     "data": {
      "text/plain": [
       "Text(0.5, 1.0, 'Sensor space decoding')"
      ]
     },
     "execution_count": 13,
     "metadata": {},
     "output_type": "execute_result"
    },
    {
     "data": {
      "image/png": "[encoded data removed]",
      "text/plain": [
       "<Figure size 432x288 with 1 Axes>"
      ]
     },
     "metadata": {
      "needs_background": "light"
     },
     "output_type": "display_data"
    }
   ],
   "source": [
    "fig, ax = plt.subplots()\n",
    "plt.ylim([0.35, 0.65])\n",
    "ax.plot(epochs_rs.times, scores, label='score')\n",
    "ax.axhline(.5, color='k', linestyle='--', label='chance')\n",
    "ax.set_xlabel('Times')\n",
    "ax.set_ylabel('AUC')  # Area Under the Curve\n",
    "ax.legend()\n",
    "ax.axvline(.0, color='k', linestyle='-')\n",
    "ax.set_title('Sensor space decoding')"
   ]
  },
  {
   "cell_type": "markdown",
   "metadata": {},
   "source": [
    "The plots show the accuracy (AUC) of the classification as a function of time. The best classiciation is obtained ~200 ms after the target onset and is about 0.64. \n"
   ]
  },
  {
   "cell_type": "markdown",
   "metadata": {},
   "source": [
    "## Preregistration and publications\n",
    "\n",
    "Publication, example:\n",
    "\n",
    "\"A multi-variate pattern analysis was applied to the MEG data to classify whether the participants attended left or right. The data were lowpass filtered at 10 Hz and then downsampled to 100 Hz. The time-points in the interval -0.1 to 0.5 s around the target onset was considered. The data were standardized by removing the mean and scaling to unit variance per sensor. A support vector machine (Cortes abd Vapnik, 1995) from Scikit-learn (https://scikit-learn.org/) was applied to classify the data as a function of time. A 5-fold cross-validation procedure was used and the classificaiton rate was reported as Area Under the Curve\""
   ]
  },
  {
   "cell_type": "markdown",
   "metadata": {},
   "source": [
    "## References \n",
    "\n",
    "* Cichy RM, Pantazis D, Oliva A.(2014) Resolving human object recognition in space and time. Nat Neurosci. 17(3):455-62. doi: 10.1038/nn.3635\n",
    "* Cortes, C, Vapnik, V (1995) Support-vector networks. Mach Learn 20, 273–297 \n",
    "* Stokes MG, Wolff MJ, Spaak E. (2015) Decoding Rich Spatial Information with High Temporal Resolution. Trends Cogn Sci. 19(11):636-638. doi: 10.1016/j.tics.2015.08.016\n",
    "\n"
   ]
  }
 ],
 "metadata": {
  "kernelspec": {
   "display_name": "Python 3 (ipykernel)",
   "language": "python",
   "name": "python3"
  },
  "language_info": {
   "codemirror_mode": {
    "name": "ipython",
    "version": 3
   },
   "file_extension": ".py",
   "mimetype": "text/x-python",
   "name": "python",
   "nbconvert_exporter": "python",
   "pygments_lexer": "ipython3",
   "version": "3.10.5"
  },
  "vscode": {
   "interpreter": {
    "hash": "d4bb03f97efaa4a6e6bd96b6dbb810e96a21614e05e834deaba9f8f83d126801"
   }
  }
 },
 "nbformat": 4,
 "nbformat_minor": 4
}
