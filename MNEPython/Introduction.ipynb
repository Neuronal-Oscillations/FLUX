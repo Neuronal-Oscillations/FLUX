{
 "cells": [
  {
   "cell_type": "markdown",
   "metadata": {},
   "source": [
    "\n",
    "# Introduction\n",
    "\n",
    "\n",
    "## Why the FLUX pipeline?\n",
    "\n",
    "The aim of the FLUX pipeline is to provide a standard implemented as a tutorial for using some of most common toolboxes to analyze full MEG datasets. The pipeline will be used for education and as well as provide a common framework for MEG data analysis.\n",
    "\n",
    "This section will focus on [MNE-Python](https://mne.tools/stable/index.html). The core arguments for using MNE-Python are:\n",
    "\n",
    "- The MNE-Python toolbox is supported by an active and dynamic group of developers ensuring that the latest analysis tools are available.\n",
    "- The  toolbox and pipeline are Open Source and henceforth compatible with Open Science approaches.\n",
    "- The toolbox is based on Python which is free (as opposed to Matlab, for instance).\n",
    "- Python is becoming the preferred programming language for novel data analyses approaches including a wealth of machine learning tools. Python modules are under constant development by a huge open sources community ensuring the availability of state-of-the-art data science tools.\n",
    "\n",
    "## Target users\n",
    "\n",
    "The target users are researchers new to MNE-Python as well as more advanced users seeking to standardize their analyses. The FLUX pipeline is particular geared towards cognitive neuroscientist with an interest in task-based paradigms. The developers of the pipeline are cognitve neuroscientists with a strong interest on brain oscillations and multivariate approaches.\n",
    "\n",
    "## Using the pipeline in self-studies and education\n",
    "\n",
    "The MNE Python toolbox has an excellent selection of [Tutorials](https://mne.tools/stable/auto_tutorials/index.html)\n",
    " and [Examples](https://mne.tools/stable/auto_examples/index.html). Nevertheless, the options are so many that the learning curve for new users is very steep. The FLUX pipeline provides a set of procedures for what we consider best practice at this moment in time. Consistent with an Open Science approach, the FLUX pipeline provides a validated and documented approach for MEG data analysis. Each analysis step comes with explanations and illustrations. Furthermore, questions are embedded in the tutorials which will be useful for self-study or they can be used in educational settings.\n",
    "\n",
    "We will not link back to sections on the MNE Python webpage as they will change over time; nevertheless, users are are strongly encouraged to consult the website as they develop their skills and insight. \n",
    "\n",
    "To use the FLUX toolbox the following installations and downloads are required:\n",
    "\n",
    "1) Install the Python environment; we recommend Anaconda3 which provide Jupyter notebooks and Spyder; see [anaconda.com](https://www.anaconda.com/)\n",
    "\n",
    "2) Install MNE Python: [instructions](https://mne.tools/dev/install/index.html). To make 3D rendering possible we recommend\n",
    "\n",
    ">  conda create --name=mne --channel=conda-forge mne\n",
    "\n",
    ">  conda install --name base nb_conda_kernels  \n",
    "\n",
    "3) Download the example datasets (see [FLUX website](https://neuosc.com/flux/))\n",
    "\n",
    "4) Get the Jupyther notebooks from Github (see [FLUX website](https://neuosc.com/flux/); alternatively copy/paste the code from Github an execute using e.g. Spyder.\n",
    "\n",
    "To create forward models based on T1 MRIs for source modeling [Freesurfer](https://surfer.nmr.mgh.harvard.edu/) is required.   \n",
    "\n",
    "\n"
   ]
  },
  {
   "cell_type": "markdown",
   "metadata": {},
   "source": [
    "## Preregistration and publication\n",
    "\n",
    "\n",
    "Publication, example:\n",
    "\n",
    "\"The data were analyzed using the open source toolbox MNE Python v0.24.0 (Gramfort et al., 2013) following the standards defined in the FLUX Pipeline (Ferrante et al., 2022)\"\n",
    "\n",
    "## References\n",
    "\n",
    "Alexandre Gramfort, Martin Luessi, Eric Larson, Denis A. Engemann, Daniel Strohmeier, Christian Brodbeck, Roman Goj, Mainak Jas, Teon Brooks, Lauri Parkkonen, and Matti S. Hämäläinen. MEG and EEG data analysis with MNE-Python. Frontiers in Neuroscience, 7(267):1–13, 2013. doi:10.3389/fnins.2013.00267.\n",
    "\n"
   ]
  },
  {
   "cell_type": "code",
   "execution_count": null,
   "metadata": {},
   "outputs": [],
   "source": []
  }
 ],
 "metadata": {
  "kernelspec": {
   "display_name": "Python 3 (ipykernel)",
   "language": "python",
   "name": "python3"
  },
  "language_info": {
   "codemirror_mode": {
    "name": "ipython",
    "version": 3
   },
   "file_extension": ".py",
   "mimetype": "text/x-python",
   "name": "python",
   "nbconvert_exporter": "python",
   "pygments_lexer": "ipython3",
   "version": "3.9.7"
  }
 },
 "nbformat": 4,
 "nbformat_minor": 4
}
